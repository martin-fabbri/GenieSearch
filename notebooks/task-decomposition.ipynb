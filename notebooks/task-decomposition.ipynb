{
 "cells": [
  {
   "cell_type": "markdown",
   "metadata": {},
   "source": [
    "### Install Dependencies"
   ]
  },
  {
   "cell_type": "code",
   "execution_count": 1,
   "metadata": {},
   "outputs": [
    {
     "name": "stdout",
     "output_type": "stream",
     "text": [
      "\u001b[31mERROR: pip's dependency resolver does not currently take into account all the packages that are installed. This behaviour is the source of the following dependency conflicts.\n",
      "pytest 7.2.1 requires attrs>=19.2.0, but you have attrs 18.2.0 which is incompatible.\n",
      "gradient 2.0.6 requires marshmallow<3.0, but you have marshmallow 3.21.0 which is incompatible.\u001b[0m\u001b[31m\n",
      "\u001b[0m\u001b[33mWARNING: Running pip as the 'root' user can result in broken permissions and conflicting behaviour with the system package manager. It is recommended to use a virtual environment instead: https://pip.pypa.io/warnings/venv\u001b[0m\u001b[33m\n",
      "\u001b[0mNote: you may need to restart the kernel to use updated packages.\n",
      "\u001b[33mWARNING: Running pip as the 'root' user can result in broken permissions and conflicting behaviour with the system package manager. It is recommended to use a virtual environment instead: https://pip.pypa.io/warnings/venv\u001b[0m\u001b[33m\n",
      "\u001b[0mNote: you may need to restart the kernel to use updated packages.\n",
      "\u001b[31mERROR: pip's dependency resolver does not currently take into account all the packages that are installed. This behaviour is the source of the following dependency conflicts.\n",
      "gradient 2.0.6 requires marshmallow<3.0, but you have marshmallow 3.21.0 which is incompatible.\u001b[0m\u001b[31m\n",
      "\u001b[0m\u001b[33mWARNING: Running pip as the 'root' user can result in broken permissions and conflicting behaviour with the system package manager. It is recommended to use a virtual environment instead: https://pip.pypa.io/warnings/venv\u001b[0m\u001b[33m\n",
      "\u001b[0mNote: you may need to restart the kernel to use updated packages.\n",
      "\u001b[33mWARNING: Running pip as the 'root' user can result in broken permissions and conflicting behaviour with the system package manager. It is recommended to use a virtual environment instead: https://pip.pypa.io/warnings/venv\u001b[0m\u001b[33m\n",
      "\u001b[0mNote: you may need to restart the kernel to use updated packages.\n",
      "\u001b[33mWARNING: Running pip as the 'root' user can result in broken permissions and conflicting behaviour with the system package manager. It is recommended to use a virtual environment instead: https://pip.pypa.io/warnings/venv\u001b[0m\u001b[33m\n",
      "\u001b[0mNote: you may need to restart the kernel to use updated packages.\n",
      "\u001b[33mWARNING: Running pip as the 'root' user can result in broken permissions and conflicting behaviour with the system package manager. It is recommended to use a virtual environment instead: https://pip.pypa.io/warnings/venv\u001b[0m\u001b[33m\n",
      "\u001b[0mNote: you may need to restart the kernel to use updated packages.\n",
      "\u001b[31mERROR: pip's dependency resolver does not currently take into account all the packages that are installed. This behaviour is the source of the following dependency conflicts.\n",
      "spacy 3.4.1 requires pydantic!=1.8,!=1.8.1,<1.10.0,>=1.7.4, but you have pydantic 1.10.8 which is incompatible.\u001b[0m\u001b[31m\n",
      "\u001b[0m\u001b[33mWARNING: Running pip as the 'root' user can result in broken permissions and conflicting behaviour with the system package manager. It is recommended to use a virtual environment instead: https://pip.pypa.io/warnings/venv\u001b[0m\u001b[33m\n",
      "\u001b[0mNote: you may need to restart the kernel to use updated packages.\n"
     ]
    }
   ],
   "source": [
    "%pip install --q langchain-community\n",
    "%pip install --q langchain\n",
    "%pip install --q duckduckgo-search\n",
    "\n",
    "# TODO: add the following packages to poetry\n",
    "%pip install --q requests\n",
    "%pip install --q beautifulsoup4\n",
    "\n",
    "#################################\n",
    "# Required for PaperSpace Gradient\n",
    "%pip install --q typing-inspect==0.8.0 typing_extensions==4.5.0\n",
    "%pip install --q pydantic==1.10.8"
   ]
  },
  {
   "cell_type": "markdown",
   "metadata": {},
   "source": [
    "### Setup Ollama"
   ]
  },
  {
   "cell_type": "code",
   "execution_count": 6,
   "metadata": {},
   "outputs": [
    {
     "name": "stdout",
     "output_type": "stream",
     "text": [
      "NAME                   \tID          \tSIZE  \tMODIFIED      \n",
      "mixtral:instruct       \t7708c059a8bb\t26 GB \t6 seconds ago\t\n",
      "nomic-embed-text:latest\t0a109f422b47\t274 MB\t4 minutes ago\t\n"
     ]
    }
   ],
   "source": [
    "# %> curl -fsSL https://ollama.com/install.sh | sh\n",
    "# %> ollama serve\n",
    "# %> ollama pull nomic-embed-text     ???? do we need a retriever???\n",
    "# %> ollama pull mixtral:instruct     (gemma:7b-instruct | mistral:instruct)\n",
    "\n",
    "!ollama list"
   ]
  },
  {
   "cell_type": "markdown",
   "metadata": {},
   "source": [
    "### Accelerator Info"
   ]
  },
  {
   "cell_type": "code",
   "execution_count": 7,
   "metadata": {},
   "outputs": [
    {
     "name": "stdout",
     "output_type": "stream",
     "text": [
      "Tue Feb 27 22:04:19 2024       \n",
      "+-----------------------------------------------------------------------------+\n",
      "| NVIDIA-SMI 525.116.04   Driver Version: 525.116.04   CUDA Version: 12.0     |\n",
      "|-------------------------------+----------------------+----------------------+\n",
      "| GPU  Name        Persistence-M| Bus-Id        Disp.A | Volatile Uncorr. ECC |\n",
      "| Fan  Temp  Perf  Pwr:Usage/Cap|         Memory-Usage | GPU-Util  Compute M. |\n",
      "|                               |                      |               MIG M. |\n",
      "|===============================+======================+======================|\n",
      "|   0  NVIDIA RTX A6000    On   | 00000000:00:05.0 Off |                  Off |\n",
      "| 30%   46C    P8    21W / 300W |      1MiB / 49140MiB |      0%      Default |\n",
      "|                               |                      |                  N/A |\n",
      "+-------------------------------+----------------------+----------------------+\n",
      "                                                                               \n",
      "+-----------------------------------------------------------------------------+\n",
      "| Processes:                                                                  |\n",
      "|  GPU   GI   CI        PID   Type   Process name                  GPU Memory |\n",
      "|        ID   ID                                                   Usage      |\n",
      "|=============================================================================|\n",
      "|  No running processes found                                                 |\n",
      "+-----------------------------------------------------------------------------+\n"
     ]
    }
   ],
   "source": [
    "!nvidia-smi"
   ]
  },
  {
   "cell_type": "markdown",
   "metadata": {},
   "source": [
    "### Prompt"
   ]
  },
  {
   "cell_type": "code",
   "execution_count": 8,
   "metadata": {},
   "outputs": [],
   "source": [
    "template = \"\"\"{text}\n",
    "-----------\n",
    "Using the above text, answer in short the following question:\n",
    "> {question}\n",
    "-----------\n",
    "if the question cannot be answered using the text, imply summarize the text. Include all\n",
    "factual information, numbers, stats etc if available.\n",
    "\"\"\""
   ]
  },
  {
   "cell_type": "code",
   "execution_count": 9,
   "metadata": {},
   "outputs": [],
   "source": [
    "from langchain_core.prompts import ChatPromptTemplate\n",
    "prompt = ChatPromptTemplate.from_template(template)"
   ]
  },
  {
   "cell_type": "markdown",
   "metadata": {},
   "source": [
    "### Ingest Documents"
   ]
  },
  {
   "cell_type": "code",
   "execution_count": 10,
   "metadata": {},
   "outputs": [],
   "source": [
    "import requests\n",
    "from bs4 import BeautifulSoup\n",
    "\n",
    "def scrape_url(url: str):\n",
    "    try:\n",
    "        # set a get request to webpage\n",
    "        response = requests.get(url)\n",
    "\n",
    "        # if the request response was successful\n",
    "        if (response.status_code == 200):\n",
    "            # parse the content of the request\n",
    "            soup = BeautifulSoup(response.text, \"html.parser\")\n",
    "            text_content = soup.get_text(separator=\" \", strip=True)\n",
    "            return text_content\n",
    "        else:\n",
    "            return f\"Failed to retrieve page: {response.status_code}\"\n",
    "    except Exception as e:\n",
    "        print(e)    \n",
    "\n",
    "    return \"\""
   ]
  },
  {
   "cell_type": "code",
   "execution_count": 11,
   "metadata": {},
   "outputs": [],
   "source": [
    "url = \"https://blog.langchain.dev/announcing-langsmith/\"\n",
    "\n",
    "content = scrape_url(url)[:10000]"
   ]
  },
  {
   "cell_type": "markdown",
   "metadata": {},
   "source": [
    "### Setup Local LLM & Embedding Models"
   ]
  },
  {
   "cell_type": "code",
   "execution_count": 12,
   "metadata": {},
   "outputs": [],
   "source": [
    "LLM_MODEL = \"mixtral:instruct\"  # (\"gemma:7b-instruct\" | \"mistral:instruct\")\n",
    "EMBEDDING_MODEL = \"nomic-embed-text\"\n",
    "TEMPERATURE = 0.9\n",
    "ENABLE_TRACING = False\n",
    "DOCUMENT_CHUNK_SIZE = 7500  # Gemma --> DOCUMENT_CHUNK_SIZE=5000\n",
    "CHUNK_OVERLAP = 100"
   ]
  },
  {
   "cell_type": "markdown",
   "metadata": {},
   "source": [
    "#### Load & Test Local LLM Model"
   ]
  },
  {
   "cell_type": "markdown",
   "metadata": {},
   "source": [
    "#### Testing the Ollama model. No need to import separate llm model."
   ]
  },
  {
   "cell_type": "code",
   "execution_count": 13,
   "metadata": {},
   "outputs": [
    {
     "name": "stderr",
     "output_type": "stream",
     "text": [
      "/usr/local/lib/python3.9/dist-packages/langchain_core/_api/deprecation.py:117: LangChainDeprecationWarning: The function `__call__` was deprecated in LangChain 0.1.7 and will be removed in 0.2.0. Use invoke instead.\n",
      "  warn_deprecated(\n"
     ]
    },
    {
     "data": {
      "text/plain": [
       "' I am a language model trained by the Mistral AI team. I generate text based on the input I receive, and my purpose is to provide useful, safe, and accurate information.'"
      ]
     },
     "execution_count": 13,
     "metadata": {},
     "output_type": "execute_result"
    }
   ],
   "source": [
    "from langchain.llms import Ollama\n",
    "\n",
    "_test_llm_model_ = Ollama(\n",
    "    model=LLM_MODEL,\n",
    "    temperature=TEMPERATURE,\n",
    ")\n",
    "\n",
    "_test_llm_model_(\"Who are you?\")"
   ]
  },
  {
   "cell_type": "markdown",
   "metadata": {},
   "source": [
    "### Web Search Agent"
   ]
  },
  {
   "cell_type": "code",
   "execution_count": 14,
   "metadata": {},
   "outputs": [],
   "source": [
    "from langchain.utilities import DuckDuckGoSearchAPIWrapper\n",
    "\n",
    "NUM_RESULTS_PER_QUESTION = 3\n",
    "ddg_search = DuckDuckGoSearchAPIWrapper()\n",
    "\n",
    "async def web_search(query: str, num_results: int = NUM_RESULTS_PER_QUESTION):\n",
    "    web_query_results = ddg_search.results(query, num_results)\n",
    "    return [r[\"link\"] for r in web_query_results]\n"
   ]
  },
  {
   "cell_type": "code",
   "execution_count": 17,
   "metadata": {},
   "outputs": [
    {
     "data": {
      "text/plain": [
       "['https://blog.langchain.dev/announcing-langsmith/',\n",
       " 'https://blog.logrocket.com/langsmith-test-llms-ai-applications/',\n",
       " 'https://dev.to/logankilpatrick/what-is-langsmith-and-why-should-i-care-as-a-developer-19k']"
      ]
     },
     "execution_count": 17,
     "metadata": {},
     "output_type": "execute_result"
    }
   ],
   "source": [
    "await web_search(\"What is langsmith?\")"
   ]
  },
  {
   "cell_type": "markdown",
   "metadata": {},
   "source": [
    "### Setup Chat Chain"
   ]
  },
  {
   "cell_type": "code",
   "execution_count": 85,
   "metadata": {},
   "outputs": [
    {
     "data": {
      "text/plain": [
       "[' LangSmith is a platform that allows developers to create and evaluate language models. It provides an API for generating responses based on descriptions, and also offers tools like serpapi and llm-math. LangSmith uses the LangChain library to initialize a chat model, load specific tools, and create an agent that can generate responses based on descriptions. The platform also provides a development environment for setting up and running the agent, including the generation of API keys and secure storage. Additionally, LangSmith offers a waitlist for users to join and access these features.',\n",
       " \" LangSmith is an open-source debugging, testing, and monitoring platform for Language Model applications built on top of LangChain's framework. It provides a unified hub for developers to manage their LLM applications throughout the development process, from prototyping to production. LangSmith offers tools for debugging, such as tracing and visualizing agent prompt chains, testing with custom datasets, and evaluating with heuristics or LLMs. It also allows for monitoring system-level performance, model/chain performance, and user interactions. LangSmith is used by companies like Klarna, BCG, Quivr, Mendable, and Multi-On to improve their LLM applications and ensure no regressions occur.\",\n",
       " ' LangSmith is a community-driven repository and practical guide for mastering LangChain, an open-source language learning model (LLM) platform. It includes real-world examples and use cases, helping developers debug, evaluate, test, and improve their LLM applications. The Cookbook covers topics like tracing code, REST API, customizing run names, testing & evaluation, and more. Contributions from the community are encouraged to keep this resource dynamic and up-to-date.']"
      ]
     },
     "execution_count": 85,
     "metadata": {},
     "output_type": "execute_result"
    }
   ],
   "source": [
    "import asyncio\n",
    "from langchain_community.chat_models import ChatOllama\n",
    "from langchain.schema.output_parser import StrOutputParser\n",
    "from langchain.schema.runnable import RunnablePassthrough, RunnableLambda\n",
    "\n",
    "scrape_and_summarize_chain = (\n",
    "    RunnablePassthrough.assign(text=lambda x: scrape_url(x[\"url\"])[:10000])\n",
    "    | prompt\n",
    "    | ChatOllama(model=LLM_MODEL)\n",
    "    | StrOutputParser()\n",
    ")\n",
    "\n",
    "web_search_chain = (\n",
    "    RunnablePassthrough.assign(urls=lambda x: asyncio.run(web_search(x[\"question\"])))\n",
    "    | (lambda x: [{\"question\": x[\"question\"], \"url\": u} for u in x[\"urls\"]])\n",
    "    | scrape_and_summarize_chain.map()\n",
    ")\n",
    "\n",
    "\n",
    "chat_response = web_search_chain.invoke({\"question\": \"What is LangSmith?\"})\n",
    "chat_response"
   ]
  },
  {
   "cell_type": "markdown",
   "metadata": {},
   "source": [
    "#### Test Web Search"
   ]
  },
  {
   "cell_type": "code",
   "execution_count": 86,
   "metadata": {},
   "outputs": [],
   "source": [
    "questions_generation = (\n",
    "    \"Write 3 google search queries to search online that form an objective \"\n",
    "    \"opinion from the following question: {question}\\n \"\n",
    "    \"Return a python list in the following format: \"\n",
    "    \"['query 1', 'query 2', 'query 3']\\n \"\n",
    "    \"Do not include anything else after the list.\"\n",
    ")\n",
    "\n",
    "SEARCH_PROMPT = ChatPromptTemplate.from_messages([(\"user\", questions_generation)])\n",
    "\n",
    "search_qanda_chain = (\n",
    "    SEARCH_PROMPT\n",
    "    | ChatOllama(model=LLM_MODEL)\n",
    "    | StrOutputParser()\n",
    "    | eval\n",
    "    | (lambda l: [{\"question\": q} for q in l])\n",
    ")\n",
    "\n",
    "chain = search_qanda_chain | web_search_chain.map()\n",
    "\n",
    "lol = chain.invoke({\"question\": \"what is json?\"})"
   ]
  },
  {
   "cell_type": "markdown",
   "metadata": {},
   "source": [
    "### Report Writer Chain"
   ]
  },
  {
   "cell_type": "code",
   "execution_count": 82,
   "metadata": {},
   "outputs": [],
   "source": [
    "def collapse_list_of_lists(list_of_lists):\n",
    "    content = []\n",
    "    for l in list_of_lists:\n",
    "        content.append(\"\\n\\n\".join(l))\n",
    "    return \"\\n\\n\".join(content)"
   ]
  },
  {
   "cell_type": "code",
   "execution_count": 87,
   "metadata": {},
   "outputs": [
    {
     "data": {
      "text/plain": [
       "' JSON (JavaScript Object Notation) is a lightweight data interchange format that is easy for humans to read and write and easy for machines to parse and generate. It is a text format that is completely language independent but uses conventions that are familiar to programmers of the C-family of languages, including C, C++, C#, Java, JavaScript, Perl, Python, and many others. JSON is built on two structures:\\n\\n1. A collection of name/value pairs. In various languages, this is realized as an object, record, struct, dictionary, hash table, keyed list, or associative array.\\n2. An ordered list of values. In most languages, this is realized as an array, vector, list, or sequence.\\n\\nJSON is a subset of the JavaScript Programming Language, Standard ECMA-262 3rd Edition - December 1999. JSON is a text format that is completely language independent but uses conventions that are familiar to programmers of the C-family of languages, including C, C++, C#, Java, JavaScript, Perl, Python, and many others. These properties make JSON an ideal data-interchange language.\\n\\nJSON is often used when data is sent from a server to a web page. It is \"self-describing\" and easy to understand. The JSON format makes it easy to store data structures in a human-readable format. This format is widely used for asynchronous browser/server communication, including that facilitated by AJAX (Asynchronous JavaScript and XML) requests.\\n\\nJSON is a trademark of Douglas Crockford and the JSON logo is a trademark of the JSON.org site.\\n\\n JSON (JavaScript Object Notation) is a lightweight data interchange format that is easy for humans to read and write and easy for machines to parse and generate. It is based on a subset of the JavaScript Programming Language, Standard ECMA-262 3rd Edition - December 1999. JSON is a text format that is completely language independent but uses conventions that are familiar to programmers of the C-family of languages, including C, C++, C#, Java, JavaScript, Perl, Python, and many others. These properties make JSON an ideal data interchange language.\\n\\nJSON is built on two structures:\\n\\n* A collection of name/value pairs. In various languages, this is realized as an object, record, struct, dictionary, hash table, keyed list, or associative array.\\n* An ordered list of values. In most languages, this is realized as an array, vector, list, or sequence.\\n\\nJSON inherently supports the following data types:\\n\\n* A string is a sequence of zero or more Unicode characters. Strings are delimited with double-quotation marks and support backslash escapes.\\n* A number is a sequence of digits that may include a decimal point, optionally preceded by a plus (+) or minus (-) sign. JSON numbers must not include exponential notation, such as 1.2e-45.\\n* A boolean represents one of two values, true or false.\\n* An object is an unordered collection of name/value pairs where the names are strings and the values are JSON data types. Objects are delimited with curly brackets {}.\\n* An array is an ordered collection of zero or more JSON data types, each of which may be any valid JSON data type. Arrays are delimited with square brackets [].\\n* null represents the absence of a value.\\n\\nJSON data format also supports whitespace characters, and it requires UTF-8 encoding.\\n\\nJSON limitations and alternatives:\\n\\n* JSON lacks support for comments which makes it unsuitable for configuration files. JSON5 is a variant that supports comments and other features.\\n* JSON does not have built-in support for dates or more advanced data types, but conventions can be used to serialize them. BSON is a binary format that stores JSON documents in a more compact and efficient way.\\n* JSON is verbose due to the required double quotes around all keys and strings and also because it is a text-based format.\\n\\nJSON is widely used for data interchange between web services, databases, and other systems, and it is supported by most modern programming languages. It can be stored in plain text files with .json extension and can be opened using any plain text editor or JSON Editor Online. JSON is simpler and more compact than XML, but XML can be used when dealing with a legacy system that only supports XML or when there are very specific constraints.\\n\\n JSON (JavaScript Object Notation) is a lightweight data interchange format that is both human- and machine-readable. It is based on JavaScript but supported by many programming languages. JSON uses a compact text format to store and transfer data, using less text and requiring less data to store and transfer compared to XML. A JSON object contains attribute/value pairs separated by commas within curly brackets, where an attribute name and its value are separated by a colon. For example, a book can be defined in JSON as {\"book\":{\"title\":\"A Study in Scarlet\", \"author\":\"Arthur Conan Doyle\", \"publisher\":{\"name\":\"Ward Lock & Co\",\"year\":\"1887\",\"country\":\"United Kingdom\"}}}.\\n\\n JSON (JavaScript Object Notation) is a lightweight data interchange format that is easy for humans to read and write and easy for machines to parse and generate. It is based on a subset of the JavaScript Programming Language, Standard ECMA-262 3rd Edition - December 1999. JSON is a text format that is completely language independent but uses conventions that are familiar to programmers of the C-family of languages, including C, C++, C#, Java, JavaScript, Perl, Python, and many others. These properties make JSON an ideal data interchange language.\\n\\nJSON consists of two structures:\\n\\n* A collection of name/value pairs. In various languages, this is realized as an object, record, struct, dictionary, hash table, keyed list, or associative array.\\n* An ordered list of values. In most languages, this is realized as an array, vector, list, or sequence.\\n\\nA JSON document is a plain text file containing a JSON document. Normally, these files have the extension .json and can be opened with any plain text editor or opened in JSON Editor Online.\\n\\nJSON has some limitations such as lack of support for comments, dates, and other more advanced data types. However, it is still widely popular due to its simplicity and support in all programming languages. JSON is a subset of JavaScript but is not a programming language itself. It can be used inside applications like JavaScript browser application and backend server application.\\n\\nJSON data is usually stored in a variable or constant and can be parsed into an object or stringified again using the built-in functions provided by most programming languages. JSON format is often used for configuration files, data storage, and data interchange between servers and web applications.\\n\\n The provided text does not contain information on the topic \"JSON format explained\". I cannot answer this question without additional context or information.\\n\\n JSON (JavaScript Object Notation) is a widely used data format for data interchange on the web. It is human-readable as well as machine-readable. JSON was created by Douglas Crockford in 2001 and standardized under RFC 4627 through the IETF in 2006, and later standardized by Ecma International under ECMA 404 in 2013. The standard file type for storing a JSON document is .json and its Internet Assigned Numbers Authority (IANA) media (or MIME) type is application/json. A JSON document can contain two structures: an object surrounded by curly braces containing multiple name/value pairs, or an array surrounded by square brackets.\\n\\nHere\\'s an example of a JSON document:\\n```\\n{\\n\\t\"employee\": {\\n\\t\\t\"id\": 1,\\n\\t\\t\"name\": \"Admin\",\\n\\t\\t\"location\": \"USA\"\\n\\t}\\n}\\n```\\nThis tutorial covers various concepts about JSON including the difference between JSON and XML, JSON syntax, how to read and write JSON documents, converting JSON to string and vice-versa, etc.\\n\\n JSON (JavaScript Object Notation) is a lightweight data interchange format that is easy for humans to read and write and easy for machines to parse and generate. It is often used when data is sent from a server to a web page. A JSON object looks something like this:\\n```\\n{\\n  \"name\": \"John Smith\",\\n  \"age\": 30,\\n  \"city\": \"New York\"\\n}\\n```\\nPython dictionaries are similar to JSON objects in that they are collections of key-value pairs. However, there are some differences between the two. For example:\\n\\n* In Python, dictionary keys must be immutable types such as strings or numbers, whereas in JSON, keys can be any string.\\n* In Python, dictionaries use colon (:) to separate keys and values, whereas in JSON, keys and values are separated by a colon and surrounded by quotes.\\n* In Python, dictionaries are enclosed in curly braces {}, whereas in JSON, objects are also enclosed in curly braces.\\n\\nHere is an example of how the above JSON object would look as a Python dictionary:\\n```\\n{\\'name\\': \\'John Smith\\', \\'age\\': 30, \\'city\\': \\'New York\\'}\\n```\\nTo convert between JSON and Python dictionaries, you can use the `json.loads()` and `json.dumps()` functions from the `json` module in Python. For example:\\n```\\nimport json\\n\\njson_string = \\'{\"name\": \"John Smith\", \"age\": 30, \"city\": \"New York\"}\\'\\npython_dict = json.loads(json_string)\\n\\n# Output: {\\'name\\': \\'John Smith\\', \\'age\\': 30, \\'city\\': \\'New York\\'}\\nprint(python_dict)\\n\\njson_string = json.dumps(python_dict)\\n\\n# Output: {\"name\": \"John Smith\", \"age\": 30, \"city\": \"New York\"}\\nprint(json_string)\\n```\\n\\n JSON (JavaScript Object Notation) is a lightweight data interchange format that is easy for humans to read and write and easy for machines to parse and generate. It is based on a subset of the JavaScript Programming Language, Standard ECMA-262 3rd Edition - December 1999. JSON is a text format that is completely language independent but uses conventions that are familiar to programmers of the C-family of languages, including C, C++, C#, Java, JavaScript, Perl, Python, and many others. These properties make JSON an ideal data interchange language.\\n\\nPython dictionaries are a part of core Python and serve as a primitive datatype in the language. They were introduced in Python version 0.992 and have since remained an essential piece of Python\\'s object-oriented programming (OOP) paradigm. Dictionaries are a collection of key-value pairs and are mutable, meaning they can be changed after creation.\\n\\nHere are some differences between JSON and Python dictionaries:\\n\\n1. JSON is a string, while a Python dictionary is an object with keys and values. To convert a JSON string to a dictionary, you can use the json.loads() method in Python.\\n2. A Python dictionary can have complex data types as values (lists, other dictionaries), while JSON only supports simple data types like strings, numbers, booleans, arrays, and another object (JSON object).\\n3. JSON is case-sensitive when it comes to keys, while Python dictionary keys are case-sensitive by default but can be configured to be case-insensitive.\\n4. In JSON, the key must be a string, while in Python, the key can be any immutable data type (string, number, tuple).\\n5. JSON does not support comments, while Python dictionaries do not have this restriction.\\n6. JSON is a standard data format with a well-defined specification, while Python dictionaries are a part of the core language and may change between versions.\\n7. JSON is a text format that can be used to transfer data over a network or store data in a file, while Python dictionaries are an in-memory data structure.\\n8. JSON keys must be strings enclosed in double quotes, but Python dictionary keys can be any valid string.\\n9. In Python, dictionary values are accessed using square brackets [] and the key, while in JSON, array elements are accessed using square brackets [] and the index.\\n10. Python dictionaries have built-in functions like len(), clear(), get(), update(), pop(), etc., but JSON does not have any built-in functions.\\n\\n The text does not provide information on the differences between JSON and Python dictionaries. However, I can provide a summary of the key differences between the two:\\n\\n1. Data Types: JSON only supports string, number, boolean, array, object and null data types while Python dictionary has more built-in data types such as integers, float, list, tuple, and dict.\\n2. Nested Objects: Both JSON and Python dictionaries support nested objects but JSON requires the use of double quotes for keys while Python uses single or double quotes interchangeably.\\n3. Mutability: JSON is immutable (i.e., it cannot be modified once created) while Python dictionary is mutable.\\n4. Ordering: JSON objects do not maintain the order of keys while Python dictionaries maintain the order in which keys were inserted.\\n5. Whitespaces: JSON does not allow the use of whitespaces in keys while Python dictionary allows it.\\n6. Comments: JSON does not support comments while Python dictionary allows single-line and multi-line comments.\\n7. Data Serialization/Deserialization: JSON data needs to be serialized/deserialized using libraries like json, simplejson or marshal in Python. However, Python dictionaries can be directly used for serialization/deserialization with pickle library.\\n8. Performance: JSON parsing is faster than Python dictionary creation due to the built-in support for JSON in many programming languages.\\n9. File Format: JSON files have .json extension while Python dictionary files do not have a specific file format and are usually stored as .py or .pickle files.'"
      ]
     },
     "execution_count": 87,
     "metadata": {},
     "output_type": "execute_result"
    }
   ],
   "source": [
    "collapse_list_of_lists(lol)"
   ]
  },
  {
   "cell_type": "code",
   "execution_count": 81,
   "metadata": {},
   "outputs": [],
   "source": [
    "WRITER_SYSTEM_PROMPT = (\n",
    "    \"You are an AI critical thinker research assistant. Your sole purpose \"\n",
    "    \"is to write well written, critically acclaimed, objective and structured \"\n",
    "    \"reports on given text.\"\n",
    ")\n",
    "\n",
    "RESEARCH_REPORT_TEMPLATE = \"\"\"Information:\n",
    "--------\n",
    "{research_summary}\n",
    "--------\n",
    "Using the above information, answer the following question or topic: \"{question}\" \n",
    "in a detailed report -- The report should focus on the answer to the question, \n",
    "should be well structured, informative,\n",
    "in depth, with facts and numbers if available and a minimum of 1,200 words.\n",
    "You should strive to write the report as long as you can using all relevant \n",
    "and necessary information provided.\n",
    "You must write the report with markdown syntax.\n",
    "You MUST determine your own concrete and valid opinion based on the given \n",
    "information. Do NOT deter to general and meaningless conclusions.\n",
    "Write all used source urls at the end of the report, and make sure to not \n",
    "add duplicated sources, but only one reference for each.\n",
    "You must write the report in apa format.\n",
    "Please do your best, this is very important to my career.\"\"\"\n",
    "\n",
    "research_writer_prompt = ChatPromptTemplate.from_messages(\n",
    "    [(\"system\", WRITER_SYSTEM_PROMPT), (\"user\", RESEARCH_REPORT_TEMPLATE)]\n",
    ")\n",
    "\n"
   ]
  }
 ],
 "metadata": {
  "kernelspec": {
   "display_name": "Python 3 (ipykernel)",
   "language": "python",
   "name": "python3"
  },
  "language_info": {
   "codemirror_mode": {
    "name": "ipython",
    "version": 3
   },
   "file_extension": ".py",
   "mimetype": "text/x-python",
   "name": "python",
   "nbconvert_exporter": "python",
   "pygments_lexer": "ipython3",
   "version": "3.9.16"
  }
 },
 "nbformat": 4,
 "nbformat_minor": 2
}
