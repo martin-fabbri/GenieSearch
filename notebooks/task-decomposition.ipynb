{
 "cells": [
  {
   "cell_type": "markdown",
   "metadata": {},
   "source": [
    "### Install Dependencies"
   ]
  },
  {
   "cell_type": "code",
   "execution_count": null,
   "metadata": {},
   "outputs": [],
   "source": [
    "%pip install --q langchain-community\n",
    "%pip install --q langchain\n",
    "%pip install --q duckduckgo-search\n",
    "\n",
    "# TODO: add the following packages to poetry\n",
    "%pip install --q requests\n",
    "%pip install --q beautifulsoup4\n",
    "%pip install --q python-dotenv\n",
    "\n",
    "#################################\n",
    "# Required for PaperSpace Gradient\n",
    "%pip install --q typing-inspect==0.8.0 typing_extensions==4.5.0\n",
    "%pip install --q pydantic==1.10.8"
   ]
  },
  {
   "cell_type": "markdown",
   "metadata": {},
   "source": [
    "### Setup Ollama"
   ]
  },
  {
   "cell_type": "code",
   "execution_count": 6,
   "metadata": {},
   "outputs": [
    {
     "name": "stdout",
     "output_type": "stream",
     "text": [
      "NAME            \tID          \tSIZE \tMODIFIED    \n",
      "mixtral:instruct\t7708c059a8bb\t26 GB\t2 hours ago\t\n"
     ]
    }
   ],
   "source": [
    "# %> curl -fsSL https://ollama.com/install.sh | sh\n",
    "# %> ollama serve\n",
    "# %> ollama pull mixtral:instruct     (gemma:7b-instruct | mistral:instruct)\n",
    "\n",
    "!ollama list"
   ]
  },
  {
   "cell_type": "markdown",
   "metadata": {},
   "source": [
    "### Accelerator Info"
   ]
  },
  {
   "cell_type": "code",
   "execution_count": null,
   "metadata": {},
   "outputs": [],
   "source": [
    "!nvidia-smi"
   ]
  },
  {
   "cell_type": "markdown",
   "metadata": {},
   "source": [
    "### Load Environment Variables & Config\n",
    "This includes:\n",
    "- LANGCHAIN_TRACING_V2\n",
    "- LANGCHAIN_API_KEY"
   ]
  },
  {
   "cell_type": "code",
   "execution_count": 5,
   "metadata": {},
   "outputs": [
    {
     "data": {
      "text/plain": [
       "'True'"
      ]
     },
     "execution_count": 5,
     "metadata": {},
     "output_type": "execute_result"
    }
   ],
   "source": [
    "%load_ext dotenv\n",
    "%dotenv GenieSearch.env\n",
    "%env LANGCHAIN_TRACING_V2"
   ]
  },
  {
   "cell_type": "markdown",
   "metadata": {},
   "source": [
    "### Prompt"
   ]
  },
  {
   "cell_type": "code",
   "execution_count": 4,
   "metadata": {},
   "outputs": [],
   "source": [
    "template = \"\"\"{text}\n",
    "-----------\n",
    "Using the above text, answer in short the following question:\n",
    "> {question}\n",
    "-----------\n",
    "if the question cannot be answered using the text, imply summarize the text. Include all\n",
    "factual information, numbers, stats etc if available.\n",
    "\"\"\""
   ]
  },
  {
   "cell_type": "code",
   "execution_count": 7,
   "metadata": {},
   "outputs": [],
   "source": [
    "from langchain_core.prompts import ChatPromptTemplate\n",
    "prompt = ChatPromptTemplate.from_template(template)"
   ]
  },
  {
   "cell_type": "markdown",
   "metadata": {},
   "source": [
    "### Ingest Documents"
   ]
  },
  {
   "cell_type": "code",
   "execution_count": 8,
   "metadata": {},
   "outputs": [],
   "source": [
    "import requests\n",
    "from bs4 import BeautifulSoup\n",
    "\n",
    "def scrape_url(url: str):\n",
    "    try:\n",
    "        # set a get request to webpage\n",
    "        response = requests.get(url)\n",
    "\n",
    "        # if the request response was successful\n",
    "        if (response.status_code == 200):\n",
    "            # parse the content of the request\n",
    "            soup = BeautifulSoup(response.text, \"html.parser\")\n",
    "            text_content = soup.get_text(separator=\" \", strip=True)\n",
    "            return text_content\n",
    "        else:\n",
    "            return f\"Failed to retrieve page: {response.status_code}\"\n",
    "    except Exception as e:\n",
    "        print(e)    \n",
    "\n",
    "    return \"\""
   ]
  },
  {
   "cell_type": "code",
   "execution_count": 9,
   "metadata": {},
   "outputs": [],
   "source": [
    "url = \"https://blog.langchain.dev/announcing-langsmith/\"\n",
    "\n",
    "content = scrape_url(url)[:10000]"
   ]
  },
  {
   "cell_type": "markdown",
   "metadata": {},
   "source": [
    "### Setup Local LLM & Embedding Models"
   ]
  },
  {
   "cell_type": "code",
   "execution_count": 10,
   "metadata": {},
   "outputs": [],
   "source": [
    "LLM_MODEL = \"mixtral:instruct\"  # (\"gemma:7b-instruct\" | \"mistral:instruct\")\n",
    "TEMPERATURE = 0.9\n"
   ]
  },
  {
   "cell_type": "markdown",
   "metadata": {},
   "source": [
    "#### Load & Test Local LLM Model"
   ]
  },
  {
   "cell_type": "markdown",
   "metadata": {},
   "source": [
    "#### Testing the Ollama model. No need to import separate llm model."
   ]
  },
  {
   "cell_type": "code",
   "execution_count": 11,
   "metadata": {},
   "outputs": [
    {
     "name": "stderr",
     "output_type": "stream",
     "text": [
      "/usr/local/lib/python3.9/dist-packages/langchain_core/_api/deprecation.py:117: LangChainDeprecationWarning: The function `__call__` was deprecated in LangChain 0.1.7 and will be removed in 0.2.0. Use invoke instead.\n",
      "  warn_deprecated(\n"
     ]
    },
    {
     "data": {
      "text/plain": [
       "' I am a helpful assistant, here to provide information and answer questions to the best of my ability. How can I help you today?'"
      ]
     },
     "execution_count": 11,
     "metadata": {},
     "output_type": "execute_result"
    }
   ],
   "source": [
    "from langchain.llms import Ollama\n",
    "\n",
    "_test_llm_model_ = Ollama(\n",
    "    model=LLM_MODEL,\n",
    "    temperature=TEMPERATURE,\n",
    ")\n",
    "\n",
    "_test_llm_model_(\"Who are you?\")"
   ]
  },
  {
   "cell_type": "markdown",
   "metadata": {},
   "source": [
    "### Web Search Agent"
   ]
  },
  {
   "cell_type": "code",
   "execution_count": 12,
   "metadata": {},
   "outputs": [],
   "source": [
    "from langchain.utilities import DuckDuckGoSearchAPIWrapper\n",
    "\n",
    "NUM_RESULTS_PER_QUESTION = 3\n",
    "ddg_search = DuckDuckGoSearchAPIWrapper()\n",
    "\n",
    "async def web_search(query: str, num_results: int = NUM_RESULTS_PER_QUESTION):\n",
    "    web_query_results = ddg_search.results(query, num_results)\n",
    "    return [r[\"link\"] for r in web_query_results]\n"
   ]
  },
  {
   "cell_type": "code",
   "execution_count": 13,
   "metadata": {},
   "outputs": [
    {
     "data": {
      "text/plain": [
       "['https://blog.logrocket.com/langsmith-test-llms-ai-applications/',\n",
       " 'https://blog.langchain.dev/announcing-langsmith/',\n",
       " 'https://cheatsheet.md/langchain-tutorials/langsmith.en']"
      ]
     },
     "execution_count": 13,
     "metadata": {},
     "output_type": "execute_result"
    }
   ],
   "source": [
    "await web_search(\"What is langsmith?\")"
   ]
  },
  {
   "cell_type": "markdown",
   "metadata": {},
   "source": [
    "### Setup Chat Chain"
   ]
  },
  {
   "cell_type": "code",
   "execution_count": 19,
   "metadata": {},
   "outputs": [
    {
     "data": {
      "text/plain": [
       "[' The text does not provide enough information to accurately answer this question. It is unclear whether \"Martin Fabbri\" refers to a person or an entity, and if so, what their role or relevance is in the context of the provided text. Based on the text, it appears that Martin Fabbri may be a player for the Detroit Red Wings who scored a goal against the Columbus Blue Jackets. However, further information is needed to confirm this.',\n",
       " ' The text provided is a section of a webpage from The Detroit News, and it is not possible to directly answer a question with the name \"Martin Fabbri\" using just this text. However, I can provide some context about what this text is describing:\\n\\n* It appears to be a portion of the website that is only accessible to subscribers of The Detroit News.\\n* There are several sections on this page, including \"News,\" \"Sports,\" \"Business,\" \"Autos,\" \"Life + Home,\" \"Entertainment,\" \"Opinion,\" \"Obituaries,\" and \"Weather.\"\\n* Some of these sections have further sub-headings, such as \"eNewspaper\" and \"Puzzles\" under \"News.\"\\n* There is also a section for \"Subscribers\" where users can sign in to their accounts or activate their digital access.\\n* The text includes several calls to action encouraging users to subscribe to the newspaper, including \"$1 for 6 months\" and \"Get unlimited digital access.\"\\n* There are several references to local Detroit and Michigan news, as well as coverage of sports teams and political commentary.\\n* There is also mention of various newsletters that subscribers can receive via email.\\n\\nWithout more context or information about who Martin Fabbri is or what they have to do with this webpage, I cannot provide a specific answer to the question posed.',\n",
       " ' The text does not provide any information about a person or thing named \"Martin Fabbri.\" The error message \"Failed to retrieve page: 403\" suggests that there was an issue accessing a webpage, and the \"403\" likely refers to a 403 Forbidden HTTP status code, which means that the server understood the request but is refusing to fulfill it.']"
      ]
     },
     "execution_count": 19,
     "metadata": {},
     "output_type": "execute_result"
    }
   ],
   "source": [
    "import asyncio\n",
    "from langchain_community.chat_models import ChatOllama\n",
    "from langchain.schema.output_parser import StrOutputParser\n",
    "from langchain.schema.runnable import RunnablePassthrough, RunnableLambda\n",
    "\n",
    "scrape_and_summarize_chain = (\n",
    "    RunnablePassthrough.assign(text=lambda x: scrape_url(x[\"url\"])[:10000])\n",
    "    | prompt\n",
    "    | ChatOllama(model=LLM_MODEL)\n",
    "    | StrOutputParser()\n",
    ")\n",
    "\n",
    "web_search_chain = (\n",
    "    RunnablePassthrough.assign(urls=lambda x: asyncio.run(web_search(x[\"question\"])))\n",
    "    | (lambda x: [{\"question\": x[\"question\"], \"url\": u} for u in x[\"urls\"]])\n",
    "    | scrape_and_summarize_chain.map()\n",
    ")\n",
    "\n",
    "\n",
    "chat_response = web_search_chain.invoke({\"question\": \"Martin Fabbri\"})\n",
    "chat_response"
   ]
  },
  {
   "cell_type": "markdown",
   "metadata": {},
   "source": [
    "#### Research Web Search"
   ]
  },
  {
   "cell_type": "code",
   "execution_count": 20,
   "metadata": {},
   "outputs": [
    {
     "data": {
      "text/plain": [
       "[[' JSON (JavaScript Object Notation) is a lightweight data-interchange format that is easy for humans to read and write and easy for machines to parse and generate. It is based on a subset of the JavaScript Programming Language, Standard ECMA-262 3rd Edition - December 1999. JSON is a text format that is completely language independent but uses conventions that are familiar to programmers of the C-family of languages, including C, C++, C#, Java, JavaScript, Perl, Python, and many others. These properties make JSON an ideal data-interchange language.\\nJSON is built on two structures:\\n\\n1. A collection of name/value pairs. In various languages, this is realized as an object, record, struct, dictionary, hash table, keyed list, or associative array.\\n2. An ordered list of values. In most languages, this is realized as an array, vector, list, or sequence.\\nHere are some facts about JSON:\\n\\n* JSON is a text format that is completely language independent but uses conventions that are familiar to programmers of the C-family of languages, including C, C++, C#, Java, JavaScript, Perl, Python, and many others.\\n* JSON is often used when data is sent from a server to a web page.\\n* JSON is \"self-describing\" and easy to understand.\\n* JSON is lightweight, requiring minimal overhead in memory or network bandwidth.\\n* JSON is language independent and can be parsed by many programming languages.\\n* JSON is built on two structures: a collection of name/value pairs and an ordered list of values.',\n",
       "  ' JSON (JavaScript Object Notation) is a lightweight data interchange format that is both human- and machine-readable. It is based on JavaScript but supported by many programming languages. JSON uses a more compact format than XML by using objects within curly brackets, attribute name/value pairs separated by colons, and attributes separated by commas. A value can consist of a string, number, boolean, object, or array. JSON is used to transfer data between web applications and servers, and it requires less data to store and transfer than XML.\\n\\nSource: TechTerms.com, April 28, 2023.',\n",
       "  ' JSON (JavaScript Object Notation) is a lightweight data interchange format that is easy for humans to read and write and easy for machines to parse and generate. It is based on a subset of the JavaScript Programming Language, Standard ECMA-262 3rd Edition - December 1999. JSON is a text format that is completely language independent but uses conventions that are familiar to programmers of the C-family of languages, including C, C++, C#, Java, JavaScript, Perl, Python, and many others. These properties make JSON an ideal data interchange language. JSON is built on two structures:\\n\\n1. A collection of name/value pairs. In various languages, this is realized as an object, record, struct, dictionary, hash table, keyed list, or associative array.\\n2. An ordered list of values. In most languages, this is realized as an array, vector, list, or sequence.\\n\\nJSON data format: 1. Array - An ordered collection of zero or more values, each of which can be of any type. The elements are enclosed in square brackets and separated by commas.\\n2. Object - An unordered collection of key/value pairs where the keys are strings. The key/value pairs are enclosed in curly braces and separated by commas.\\n3. String - A sequence of zero or more Unicode characters wrapped in double quotes, with backslash escapes for special characters.\\n4. Number - A signed decimal number that may include an exponent. May be an integer or a floating-point.\\n5. Boolean - Represents one of two values: true or false (lowercase).\\n6. Null - Represents the absence of any value, like null in JavaScript.\\n7. Whitespace - Optional space characters can appear around keys and values to make JSON documents easier to read.\\n8. Encoding - JSON requires UTF-8 encoding.'],\n",
       " [' JSON stands for JavaScript Object Notation. It is a lightweight data-interchange format that is easy for humans to read and write and easy for machines to parse and generate. It is based on a subset of the JavaScript Programming Language, Standard ECMA-262 3rd Edition - December 1999. JSON is a text format that is completely language independent but uses conventions that are familiar to programmers of the C-family of languages, including C, C++, C#, Java, JavaScript, Perl, Python, and many others. These properties make JSON an ideal data-interchange language.\\n\\nJSON is built on two structures:\\n\\n* A collection of name/value pairs. In various languages, this is realized as an object, record, struct, dictionary, hash table, keyed list, or associative array.\\n* An ordered list of values. In most languages, this is realized as an array, vector, list, or sequence.\\n\\nJSON is a subset of JavaScript and shares its syntax. The JSON format makes use of conventions that are familiar to programmers of the C-family of languages, including C, C++, C#, Java, JavaScript, Perl, Python, and many others. These properties make JSON an ideal data-interchange language.\\n\\nJSON is often used when data is sent from a server to a web page. It can also be used within a web page if JavaScript is used. JSON is often preferred over XML because it is more lightweight and easier for machines to parse and generate.',\n",
       "  ' JSON stands for JavaScript Object Notation. It is a lightweight data-interchange format that is easy for humans to read and write and easy for machines to parse and generate. JSON is a text format that is completely language independent but uses conventions that are familiar to programmers of the C-family of languages, including C, C++, C#, Java, JavaScript, Perl, Python, and many others. These properties make JSON an ideal data-interchange language. JSON is built on two structures:\\n\\n1. A collection of name/value pairs. In various languages, this is realized as an object, record, struct, dictionary, hash table, keyed list, or associative array.\\n2. An ordered list of values. In most languages, this is realized as an array, vector, list, or sequence.\\n\\nHere\\'s a simple example of JSON usage:\\n```json\\n{\\n  \"className\":\"Class 2B\",\\n  \"year\":2022,\\n  \"phoneNumber\":null,\\n  \"active\":true,\\n  \"homeroomTeacher\":{\"firstName\":\"Richard\", \"lastName\":\"Roe\"},\\n  \"members\":[{\\n      \"firstName\":\"Jane\",\"lastName\":\"Doe\"},\\n      {\"firstName\":\"Jinny\",\"lastName\":\"Roe\"},\\n      {\"firstName\":\"Johnny\",\"lastName\":\"Roe\"},\\n      ]\\n}\\n```\\nIn the example, `className`, `year`, `phoneNumber`, and `active` are strings, numbers, null, and boolean respectively. The `homeroomTeacher` is an object literal with two properties, firstName and lastName. Lastly, the script from the sixth line onwards is an array with three objects, each having `firstName` and `lastName` as properties.',\n",
       "  ' JSON stands for JavaScript Object Notation. It is a lightweight data interchange format that is easy for humans to read and write and easy for machines to parse and generate. JSON is a text format that is completely language independent but uses conventions that are familiar to programmers of the C-family of languages, including C, C++, C#, Java, JavaScript, Perl, Python, and many others. These properties make JSON an ideal data interchange language.'],\n",
       " [' JSON (JavaScript Object Notation) is a lightweight data interchange format that is easy for humans to read and write and easy for machines to parse and generate. It is based on a subset of the JavaScript Programming Language, Standard ECMA-262 3rd Edition - December 1999. JSON is a text format that is completely language independent but uses conventions that are familiar to programmers of the C-family of languages, including C, C++, C#, Java, JavaScript, Perl, Python, and many others. These properties make JSON an ideal data-interchange language.\\n\\nJSON is often used in web development for various purposes such as:\\n1. Sending/receiving data between a client (e.g. browser) and server (e.g. REST API).\\n2. Storing configuration settings for software applications.\\n3. Representing structured data in databases or flat files.\\n4. Communication between microservices in a distributed system.\\n5. Storing game settings, level designs, and in-game events.\\n\\nJSON is used to represent simple data structures and associative arrays (called objects) in a concise and easy-to-read format. A JSON object looks something like this:\\n```json\\n{\\n   \"name\": \"John\",\\n   \"age\": 30,\\n   \"city\": \"New York\"\\n}\\n```\\nIn the above example, `name`, `age`, and `city` are keys that map to values. The keys are always strings, and the values can be strings, numbers, booleans (true/false), arrays, or other objects. JSON objects can contain multiple key-value pairs, as shown in the following example:\\n```json\\n{\\n   \"employees\": [\\n      {\\n         \"firstName\": \"John\",\\n         \"lastName\": \"Doe\"\\n      },\\n      {\\n         \"firstName\": \"Anna\",\\n         \"lastName\": \"Smith\"\\n      },\\n      {\\n         \"firstName\": \"Peter\",\\n         \"lastName\": \"Jones\"\\n      }\\n   ]\\n}\\n```\\nIn the above example, `employees` is an array of objects that contains three employees with their first and last names. JSON arrays are enclosed in square brackets (`[]`) and can contain any number of values, separated by commas.\\n\\nJSON data format is widely used across various programming languages and platforms due to its simplicity, readability, and flexibility. It has become a de facto standard for data exchange between web services, applications, and devices. JSON data can be easily parsed and generated using popular programming languages such as JavaScript, Python, Java, C#, Ruby, PHP, and many others.\\n\\nIn summary, JSON is a lightweight, simple, and flexible data format that is widely used in web development and data exchange between various platforms and devices. It is easy to read and write for humans, and easy to parse and generate for machines. JSON objects can contain multiple key-value pairs, arrays, and other objects, making it an ideal data-interchange language.',\n",
       "  ' JSON (JavaScript Object Notation) is a lightweight data interchange format that is easy for humans to read and write and easy for machines to parse and generate. It is based on a subset of the JavaScript Programming Language, Standard ECMA-262 3rd Edition - December 1999. JSON is a text format that is completely language independent but uses conventions that are familiar to programmers of the C-family of languages, including C, C++, C#, Java, JavaScript, Perl, Python, and many others. These properties make JSON an ideal data interchange language.\\n\\nJSON is built on two structures:\\n\\n* A collection of name/value pairs. In various languages, this is realized as an object, record, struct, dictionary, hash table, keyed list, or associative array.\\n* An ordered list of values. In most languages, this is realized as an array, vector, list, or sequence.\\n\\nA JSON object looks like this:\\n```json\\n{\\n     \"firstName\": \"John\",\\n     \"lastName\": \"Smith\",\\n     \"address\": {\\n         \"street\": \"21 2nd Street\",\\n         \"city\": \"New York\",\\n         \"state\": \"NY\",\\n         \"postalCode\": \"10021\"\\n     },\\n     \"phoneNumbers\": [\\n         {\\n             \"type\": \"home\",\\n             \"number\": \"212 555-1234\"\\n         },\\n         {\\n             \"type\": \"office\",\\n             \"number\": \"646 555-4567\"\\n         }\\n     ]\\n}\\n```\\nJSON has the following properties:\\n\\n* Simple: JSON objects contain only arrays and other objects.\\n* Readable: JSON objects are written in a way that is easy for humans to read and write.\\n* Lightweight: JSON objects take up less space than XML representations.\\n* Language Independent: JSON objects can be used with any programming language.\\n* Platform Independent: JSON objects can be used on any operating system.\\n* Self-describing: JSON objects contain metadata that describes the data they contain.\\n* Easy to generate and parse: JSON objects can be easily generated from and parsed into other data formats, such as XML or CSV.',\n",
       "  ' Based on the provided text, it is not possible to provide an explanation of the JSON data format as the text indicates that there was a failure to retrieve a page with a 403 error code, which typically means that access to the requested resource has been denied. Therefore, there is no additional information available in the text to answer the question.']]"
      ]
     },
     "execution_count": 20,
     "metadata": {},
     "output_type": "execute_result"
    }
   ],
   "source": [
    "questions_generation = (\n",
    "    \"Write 3 google search queries to search online that form an objective \"\n",
    "    \"opinion from the following question: {question}\\n \"\n",
    "    \"Return a python list in the following format: \"\n",
    "    \"['query 1', 'query 2', 'query 3']\\n \"\n",
    "    \"Do not include anything else after the list.\"\n",
    ")\n",
    "\n",
    "SEARCH_PROMPT = ChatPromptTemplate.from_messages([(\"user\", questions_generation)])\n",
    "\n",
    "search_qanda_chain = (\n",
    "    SEARCH_PROMPT\n",
    "    | ChatOllama(model=LLM_MODEL)\n",
    "    | StrOutputParser()\n",
    "    | eval\n",
    "    | (lambda l: [{\"question\": q} for q in l])\n",
    ")\n",
    "\n",
    "full_research_chain = search_qanda_chain | web_search_chain.map()\n",
    "\n",
    "lol = full_research_chain.invoke({\"question\": \"what is json?\"})\n",
    "lol"
   ]
  },
  {
   "cell_type": "markdown",
   "metadata": {},
   "source": [
    "### Report Writer Chain"
   ]
  },
  {
   "cell_type": "code",
   "execution_count": null,
   "metadata": {},
   "outputs": [],
   "source": [
    "def collapse_list_of_lists(list_of_lists):\n",
    "    content = []\n",
    "    for l in list_of_lists:\n",
    "        content.append(\"\\n\\n\".join(l))\n",
    "    return \"\\n\\n\".join(content)"
   ]
  },
  {
   "cell_type": "code",
   "execution_count": null,
   "metadata": {},
   "outputs": [],
   "source": [
    "collapse_list_of_lists(lol)"
   ]
  },
  {
   "cell_type": "markdown",
   "metadata": {},
   "source": [
    "### Research Writer Prompt"
   ]
  },
  {
   "cell_type": "code",
   "execution_count": null,
   "metadata": {},
   "outputs": [],
   "source": [
    "WRITER_SYSTEM_PROMPT = (\n",
    "    \"You are an AI critical thinker research assistant. Your sole purpose \"\n",
    "    \"is to write well written, critically acclaimed, objective and structured \"\n",
    "    \"reports on given text.\"\n",
    ")\n",
    "\n",
    "RESEARCH_REPORT_TEMPLATE = \"\"\"Information:\n",
    "--------\n",
    "{research_summary}\n",
    "--------\n",
    "Using the above information, answer the following question or topic: \"{question}\" \n",
    "in a detailed report -- The report should focus on the answer to the question, \n",
    "should be well structured, informative,\n",
    "in depth, with facts and numbers if available and a minimum of 1,200 words.\n",
    "You should strive to write the report as long as you can using all relevant \n",
    "and necessary information provided.\n",
    "You must write the report with markdown syntax.\n",
    "You MUST determine your own concrete and valid opinion based on the given \n",
    "information. Do NOT deter to general and meaningless conclusions.\n",
    "Write all used source urls at the end of the report, and make sure to not \n",
    "add duplicated sources, but only one reference for each.\n",
    "You must write the report in apa format.\n",
    "Please do your best, this is very important to my career.\"\"\"\n",
    "\n",
    "research_writer_prompt = ChatPromptTemplate.from_messages(\n",
    "    [(\"system\", WRITER_SYSTEM_PROMPT), (\"user\", RESEARCH_REPORT_TEMPLATE)]\n",
    ")"
   ]
  },
  {
   "cell_type": "markdown",
   "metadata": {},
   "source": [
    "### Research Writer Chain"
   ]
  },
  {
   "cell_type": "code",
   "execution_count": null,
   "metadata": {},
   "outputs": [],
   "source": [
    "research_writer_chain = (\n",
    "    RunnablePassthrough.assign(\n",
    "        research_summary=full_research_chain | collapse_list_of_lists\n",
    "    )\n",
    "    | research_writer_prompt\n",
    "    | ChatOllama(model=LLM_MODEL)\n",
    "    | StrOutputParser()\n",
    ")"
   ]
  },
  {
   "cell_type": "code",
   "execution_count": null,
   "metadata": {},
   "outputs": [],
   "source": [
    "research_writer_chain.invoke({\"question\": \"Who is Martin Fabbri?\"})"
   ]
  },
  {
   "cell_type": "code",
   "execution_count": null,
   "metadata": {},
   "outputs": [],
   "source": []
  },
  {
   "cell_type": "code",
   "execution_count": null,
   "metadata": {},
   "outputs": [],
   "source": []
  }
 ],
 "metadata": {
  "kernelspec": {
   "display_name": "Python 3 (ipykernel)",
   "language": "python",
   "name": "python3"
  },
  "language_info": {
   "codemirror_mode": {
    "name": "ipython",
    "version": 3
   },
   "file_extension": ".py",
   "mimetype": "text/x-python",
   "name": "python",
   "nbconvert_exporter": "python",
   "pygments_lexer": "ipython3",
   "version": "3.9.16"
  }
 },
 "nbformat": 4,
 "nbformat_minor": 2
}
