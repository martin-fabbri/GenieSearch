{
 "cells": [
  {
   "cell_type": "markdown",
   "metadata": {},
   "source": [
    "### Install Dependencies"
   ]
  },
  {
   "cell_type": "code",
   "execution_count": 1,
   "metadata": {},
   "outputs": [
    {
     "name": "stdout",
     "output_type": "stream",
     "text": [
      "\u001b[31mERROR: pip's dependency resolver does not currently take into account all the packages that are installed. This behaviour is the source of the following dependency conflicts.\n",
      "pytest 7.2.1 requires attrs>=19.2.0, but you have attrs 18.2.0 which is incompatible.\n",
      "gradient 2.0.6 requires marshmallow<3.0, but you have marshmallow 3.21.0 which is incompatible.\u001b[0m\u001b[31m\n",
      "\u001b[0m\u001b[33mWARNING: Running pip as the 'root' user can result in broken permissions and conflicting behaviour with the system package manager. It is recommended to use a virtual environment instead: https://pip.pypa.io/warnings/venv\u001b[0m\u001b[33m\n",
      "\u001b[0mNote: you may need to restart the kernel to use updated packages.\n",
      "\u001b[33mWARNING: Running pip as the 'root' user can result in broken permissions and conflicting behaviour with the system package manager. It is recommended to use a virtual environment instead: https://pip.pypa.io/warnings/venv\u001b[0m\u001b[33m\n",
      "\u001b[0mNote: you may need to restart the kernel to use updated packages.\n",
      "\u001b[31mERROR: pip's dependency resolver does not currently take into account all the packages that are installed. This behaviour is the source of the following dependency conflicts.\n",
      "gradient 2.0.6 requires marshmallow<3.0, but you have marshmallow 3.21.0 which is incompatible.\u001b[0m\u001b[31m\n",
      "\u001b[0m\u001b[33mWARNING: Running pip as the 'root' user can result in broken permissions and conflicting behaviour with the system package manager. It is recommended to use a virtual environment instead: https://pip.pypa.io/warnings/venv\u001b[0m\u001b[33m\n",
      "\u001b[0mNote: you may need to restart the kernel to use updated packages.\n",
      "\u001b[33mWARNING: Running pip as the 'root' user can result in broken permissions and conflicting behaviour with the system package manager. It is recommended to use a virtual environment instead: https://pip.pypa.io/warnings/venv\u001b[0m\u001b[33m\n",
      "\u001b[0mNote: you may need to restart the kernel to use updated packages.\n",
      "\u001b[33mWARNING: Running pip as the 'root' user can result in broken permissions and conflicting behaviour with the system package manager. It is recommended to use a virtual environment instead: https://pip.pypa.io/warnings/venv\u001b[0m\u001b[33m\n",
      "\u001b[0mNote: you may need to restart the kernel to use updated packages.\n",
      "\u001b[33mWARNING: Running pip as the 'root' user can result in broken permissions and conflicting behaviour with the system package manager. It is recommended to use a virtual environment instead: https://pip.pypa.io/warnings/venv\u001b[0m\u001b[33m\n",
      "\u001b[0mNote: you may need to restart the kernel to use updated packages.\n",
      "\u001b[33mWARNING: Running pip as the 'root' user can result in broken permissions and conflicting behaviour with the system package manager. It is recommended to use a virtual environment instead: https://pip.pypa.io/warnings/venv\u001b[0m\u001b[33m\n",
      "\u001b[0mNote: you may need to restart the kernel to use updated packages.\n",
      "\u001b[31mERROR: pip's dependency resolver does not currently take into account all the packages that are installed. This behaviour is the source of the following dependency conflicts.\n",
      "spacy 3.4.1 requires pydantic!=1.8,!=1.8.1,<1.10.0,>=1.7.4, but you have pydantic 1.10.8 which is incompatible.\u001b[0m\u001b[31m\n",
      "\u001b[0m\u001b[33mWARNING: Running pip as the 'root' user can result in broken permissions and conflicting behaviour with the system package manager. It is recommended to use a virtual environment instead: https://pip.pypa.io/warnings/venv\u001b[0m\u001b[33m\n",
      "\u001b[0mNote: you may need to restart the kernel to use updated packages.\n"
     ]
    }
   ],
   "source": [
    "%pip install --q langchain-community\n",
    "%pip install --q langchain\n",
    "%pip install --q duckduckgo-search\n",
    "\n",
    "# TODO: add the following packages to poetry\n",
    "%pip install --q requests\n",
    "%pip install --q beautifulsoup4\n",
    "%pip install --q python-dotenv\n",
    "\n",
    "#################################\n",
    "# Required for PaperSpace Gradient\n",
    "%pip install --q typing-inspect==0.8.0 typing_extensions==4.5.0\n",
    "%pip install --q pydantic==1.10.8"
   ]
  },
  {
   "cell_type": "markdown",
   "metadata": {},
   "source": [
    "### Setup Ollama"
   ]
  },
  {
   "cell_type": "code",
   "execution_count": 28,
   "metadata": {},
   "outputs": [
    {
     "name": "stdout",
     "output_type": "stream",
     "text": [
      "NAME            \tID          \tSIZE \tMODIFIED           \n",
      "mixtral:instruct\t7708c059a8bb\t26 GB\tAbout a minute ago\t\n"
     ]
    }
   ],
   "source": [
    "# %> curl -fsSL https://ollama.com/install.sh | sh\n",
    "# %> ollama serve\n",
    "# %> ollama pull mixtral:instruct     (gemma:7b-instruct | mistral:instruct)\n",
    "\n",
    "!ollama list"
   ]
  },
  {
   "cell_type": "markdown",
   "metadata": {},
   "source": [
    "### Accelerator Info"
   ]
  },
  {
   "cell_type": "code",
   "execution_count": 5,
   "metadata": {},
   "outputs": [
    {
     "name": "stdout",
     "output_type": "stream",
     "text": [
      "Wed Feb 28 09:46:17 2024       \n",
      "+-----------------------------------------------------------------------------+\n",
      "| NVIDIA-SMI 525.116.04   Driver Version: 525.116.04   CUDA Version: 12.0     |\n",
      "|-------------------------------+----------------------+----------------------+\n",
      "| GPU  Name        Persistence-M| Bus-Id        Disp.A | Volatile Uncorr. ECC |\n",
      "| Fan  Temp  Perf  Pwr:Usage/Cap|         Memory-Usage | GPU-Util  Compute M. |\n",
      "|                               |                      |               MIG M. |\n",
      "|===============================+======================+======================|\n",
      "|   0  NVIDIA RTX A6000    Off  | 00000000:00:05.0 Off |                  Off |\n",
      "| 30%   32C    P8    23W / 300W |      1MiB / 49140MiB |      0%      Default |\n",
      "|                               |                      |                  N/A |\n",
      "+-------------------------------+----------------------+----------------------+\n",
      "                                                                               \n",
      "+-----------------------------------------------------------------------------+\n",
      "| Processes:                                                                  |\n",
      "|  GPU   GI   CI        PID   Type   Process name                  GPU Memory |\n",
      "|        ID   ID                                                   Usage      |\n",
      "|=============================================================================|\n",
      "|  No running processes found                                                 |\n",
      "+-----------------------------------------------------------------------------+\n"
     ]
    }
   ],
   "source": [
    "!nvidia-smi"
   ]
  },
  {
   "cell_type": "markdown",
   "metadata": {},
   "source": [
    "### Load Environment Variables & Config\n",
    "This includes:\n",
    "- LANGCHAIN_TRACING_V2\n",
    "- LANGCHAIN_API_KEY"
   ]
  },
  {
   "cell_type": "code",
   "execution_count": 3,
   "metadata": {},
   "outputs": [
    {
     "data": {
      "text/plain": [
       "'True'"
      ]
     },
     "execution_count": 3,
     "metadata": {},
     "output_type": "execute_result"
    }
   ],
   "source": [
    "%load_ext dotenv\n",
    "%dotenv GenieSearch.env\n",
    "%env LANGCHAIN_TRACING_V2"
   ]
  },
  {
   "cell_type": "markdown",
   "metadata": {},
   "source": [
    "### Single Question Prompt"
   ]
  },
  {
   "cell_type": "code",
   "execution_count": 29,
   "metadata": {},
   "outputs": [],
   "source": [
    "template = \"\"\"{text}\n",
    "-----------\n",
    "Using the above text, answer in short the following question:\n",
    "> {question}\n",
    "-----------\n",
    "if the question cannot be answered using the text, imply summarize the text. Include all\n",
    "factual information, numbers, stats etc if available.\n",
    "\"\"\""
   ]
  },
  {
   "cell_type": "code",
   "execution_count": 30,
   "metadata": {},
   "outputs": [],
   "source": [
    "from langchain_core.prompts import ChatPromptTemplate\n",
    "SINGLE_QUESTION_PROMPT = ChatPromptTemplate.from_template(template)"
   ]
  },
  {
   "cell_type": "markdown",
   "metadata": {},
   "source": [
    "### Ingest Documents"
   ]
  },
  {
   "cell_type": "code",
   "execution_count": 31,
   "metadata": {},
   "outputs": [],
   "source": [
    "import requests\n",
    "from bs4 import BeautifulSoup\n",
    "\n",
    "def scrape_url(url: str):\n",
    "    try:\n",
    "        # set a get request to webpage\n",
    "        response = requests.get(url)\n",
    "\n",
    "        # if the request response was successful\n",
    "        if (response.status_code == 200):\n",
    "            # parse the content of the request\n",
    "            soup = BeautifulSoup(response.text, \"html.parser\")\n",
    "            text_content = soup.get_text(separator=\" \", strip=True)\n",
    "            return text_content\n",
    "        else:\n",
    "            return f\"Failed to retrieve page: {response.status_code}\"\n",
    "    except Exception as e:\n",
    "        print(e)    \n",
    "\n",
    "    return \"\""
   ]
  },
  {
   "cell_type": "code",
   "execution_count": 32,
   "metadata": {},
   "outputs": [],
   "source": [
    "url = \"https://blog.langchain.dev/announcing-langsmith/\"\n",
    "\n",
    "content = scrape_url(url)[:10000]"
   ]
  },
  {
   "cell_type": "markdown",
   "metadata": {},
   "source": [
    "### Setup Local LLM & Embedding Models"
   ]
  },
  {
   "cell_type": "code",
   "execution_count": 33,
   "metadata": {},
   "outputs": [],
   "source": [
    "LLM_MODEL = \"mixtral:instruct\"  # (\"gemma:7b-instruct\" | \"mistral:instruct\")\n",
    "TEMPERATURE = 0.9\n"
   ]
  },
  {
   "cell_type": "markdown",
   "metadata": {},
   "source": [
    "#### Load & Test Local LLM Model"
   ]
  },
  {
   "cell_type": "markdown",
   "metadata": {},
   "source": [
    "#### Testing the Ollama model. No need to import separate llm model."
   ]
  },
  {
   "cell_type": "code",
   "execution_count": 34,
   "metadata": {},
   "outputs": [
    {
     "name": "stderr",
     "output_type": "stream",
     "text": [
      "/usr/local/lib/python3.9/dist-packages/langchain_core/_api/deprecation.py:117: LangChainDeprecationWarning: The function `__call__` was deprecated in LangChain 0.1.7 and will be removed in 0.2.0. Use invoke instead.\n",
      "  warn_deprecated(\n"
     ]
    },
    {
     "data": {
      "text/plain": [
       "' I am a helpful assistant here to provide information and answer questions to the best of my ability. How can I help you today?'"
      ]
     },
     "execution_count": 34,
     "metadata": {},
     "output_type": "execute_result"
    }
   ],
   "source": [
    "from langchain.llms import Ollama\n",
    "\n",
    "_test_llm_model_ = Ollama(\n",
    "    model=LLM_MODEL,\n",
    "    temperature=TEMPERATURE,\n",
    ")\n",
    "\n",
    "_test_llm_model_(\"Who are you?\")"
   ]
  },
  {
   "cell_type": "markdown",
   "metadata": {},
   "source": [
    "### Web Search Agent"
   ]
  },
  {
   "cell_type": "code",
   "execution_count": 35,
   "metadata": {},
   "outputs": [],
   "source": [
    "from langchain.utilities import DuckDuckGoSearchAPIWrapper\n",
    "\n",
    "NUM_RESULTS_PER_QUESTION = 3\n",
    "ddg_search = DuckDuckGoSearchAPIWrapper()\n",
    "\n",
    "async def web_search(query: str, num_results: int = NUM_RESULTS_PER_QUESTION):\n",
    "    web_query_results = ddg_search.results(query, num_results)\n",
    "    return [r[\"link\"] for r in web_query_results]\n"
   ]
  },
  {
   "cell_type": "code",
   "execution_count": 36,
   "metadata": {},
   "outputs": [
    {
     "data": {
      "text/plain": [
       "['https://blog.logrocket.com/langsmith-test-llms-ai-applications/',\n",
       " 'https://blog.langchain.dev/announcing-langsmith/',\n",
       " 'https://cheatsheet.md/langchain-tutorials/langsmith.en']"
      ]
     },
     "execution_count": 36,
     "metadata": {},
     "output_type": "execute_result"
    }
   ],
   "source": [
    "await web_search(\"What is langsmith?\")"
   ]
  },
  {
   "cell_type": "markdown",
   "metadata": {},
   "source": [
    "### Setup Chat Chain"
   ]
  },
  {
   "cell_type": "code",
   "execution_count": 37,
   "metadata": {},
   "outputs": [
    {
     "data": {
      "text/plain": [
       "[' The text does not provide enough information to answer the question. It only mentions that Robby Fabbri scored a goal for the Detroit Red Wings in their game against the Columbus Blue Jackets, but it does not provide any additional details about him.',\n",
       " ' The text does not provide any information about a person or entity named \"Martin Fabbri.\" The text itself is an error message indicating that there was a failure to retrieve a page, and the specific error code is 403, which typically means that the server understood the request but refuses to fulfill it. Without more context, it\\'s not possible to say why the page retrieval failed or what it might have contained.',\n",
       " ' The text does not provide any information about a person or entity named \"Martin Fabbri.\" The text itself is an error message, specifically a 403 error, which indicates that the user attempting to access a web page does not have permission to do so.']"
      ]
     },
     "execution_count": 37,
     "metadata": {},
     "output_type": "execute_result"
    }
   ],
   "source": [
    "import asyncio\n",
    "from langchain_community.chat_models import ChatOllama\n",
    "from langchain.schema.output_parser import StrOutputParser\n",
    "from langchain.schema.runnable import RunnablePassthrough, RunnableLambda\n",
    "\n",
    "scrape_and_summarize_chain = (\n",
    "    RunnablePassthrough.assign(text=lambda x: scrape_url(x[\"url\"])[:10000])\n",
    "    | SINGLE_QUESTION_PROMPT\n",
    "    | ChatOllama(model=LLM_MODEL)\n",
    "    | StrOutputParser()\n",
    ")\n",
    "\n",
    "web_search_chain = (\n",
    "    RunnablePassthrough.assign(urls=lambda x: asyncio.run(web_search(x[\"question\"])))\n",
    "    | (lambda x: [{\"question\": x[\"question\"], \"url\": u} for u in x[\"urls\"]])\n",
    "    | scrape_and_summarize_chain.map()\n",
    ")\n",
    "\n",
    "\n",
    "chat_response = web_search_chain.invoke({\"question\": \"Martin Fabbri\"})\n",
    "chat_response"
   ]
  },
  {
   "cell_type": "markdown",
   "metadata": {},
   "source": [
    "#### Research Web Search"
   ]
  },
  {
   "cell_type": "code",
   "execution_count": 39,
   "metadata": {},
   "outputs": [
    {
     "data": {
      "text/plain": [
       "[[\" JSON (JavaScript Object Notation) is a lightweight data interchange format that is easy for humans to read and write and easy for machines to parse and generate. It is based on a subset of the JavaScript Programming Language, Standard ECMA-262 3rd Edition - December 1999. JSON is a text format that is completely language independent but uses conventions that are familiar to programmers of the C-family of languages, including C, C++, C#, Java, JavaScript, Perl, Python, and many others. These properties make JSON an ideal data-interchange language.\\n\\nJSON is built on two structures:\\n\\n* A collection of name/value pairs. In various languages, this is realized as an object, record, struct, dictionary, hash table, keyed list, or associative array.\\n* An ordered list of values. In most languages, this is realized as an array, vector, list, or sequence.\\n\\nAn object is an unordered set of name/value pairs, where a name is a string and a value is a string, number, boolean, null, object, or array.\\n\\nThe JSON format is described by two specifications: ECMA-404 and RFC 8259 . The text provided mentions that JSON was first specified by Douglas Crockford in the early 2000s and was standardized by Ecma International in 2013.\\n\\nJSON syntax is similar to JavaScript's object literals, with key-value pairs also called objects. JSON supports similar data types as JavaScript: string, number, object, array, true, false, and null. JSON arrays can consist of multiple data types, including other arrays. JSON objects can specify any of the supported data types, but the key must be a string.\\n\\nJSON is widely used and supported in many programming languages, making it easy to find information on how to use the format. The difficulty of using JSON for configuration or data transferring depends on the programming language and understanding of the required functionality used for the processes. However, JSON tools are available to make the process easier.\",\n",
       "  ' JSON (JavaScript Object Notation) is a lightweight data interchange format that is easy for humans to read and write and easy for machines to parse and generate. It is based on a subset of the JavaScript Programming Language, Standard ECMA-262 3rd Edition - December 1999. JSON is a text format that is completely language independent but uses conventions that are familiar to programmers of the C-family of languages, including C, C++, C#, Java, JavaScript, Perl, Python, and many others. These properties make JSON an ideal data-interchange language.\\n\\nJSON is often used for storing and exchanging data between a server and web application, transmitting data in web applications, configuration files, game settings, communication between microservices, and storing data in databases or flat files. It is widely used due to its simplicity, readability, and flexibility.\\n\\nIn summary, JSON is a popular and versatile format for storing and exchanging data in web development and other applications that require structured data representation and transmission.',\n",
       "  ' JSON (JavaScript Object Notation) is a lightweight data interchange format that is easy for humans to read and write and easy for machines to parse and generate. It is based on a subset of the JavaScript Programming Language, Standard ECMA-262 3rd Edition - December 1999. JSON is a text format that is completely language independent but uses conventions that are familiar to programmers of the C-family of languages, including C, C++, C#, Java, JavaScript, Perl, Python, and many others. These properties make JSON an ideal data interchange language. JSON is built on two structures:\\n\\n* A collection of name/value pairs. In various languages, this is realized as an object, record, struct, dictionary, hash table, keyed list, or associative array.\\n* An ordered list of values. In most languages, this is realized as an array, vector, list, or sequence.\\n\\nJSON syntax:\\n{\\n\"name\": \"value\",\\n...\\n}\\n\\nJSON example:\\n```json\\n{\\n  \"firstName\": \"John\",\\n  \"lastName\": \"Smith\",\\n  \"isStudent\": false,\\n  \"age\": 25,\\n  \"address\": {\\n    \"street\": \"21 2nd Street\",\\n    \"city\": \"New York\",\\n    \"state\": \"NY\",\\n    \"postalCode\": \"10021\"\\n  },\\n  \"phoneNumbers\": [\\n    {\\n      \"type\": \"home\",\\n      \"number\": \"212 555-1234\"\\n    },\\n    {\\n      \"type\": \"office\",\\n      \"number\": \"646 555-4567\"\\n    }\\n  ],\\n  \"socialProfiles\": {\\n    \"github\": \"johnsmith\",\\n    \"twitter\": \"@johnsmith\"\\n  }\\n}\\n```\\nJSON is often used with AJAX (Asynchronous JavaScript and XML) to retrieve data from a server as an alternative to using XML. JSON is more lightweight than XML and easier for machines to parse and generate, making it a popular choice for web applications. JSON can be used with any programming language that supports text-based communication, making it a versatile choice for data interchange.'],\n",
       " [' JSON (JavaScript Object Notation) is a lightweight data interchange format that is easy for humans to read and write and easy for machines to parse and generate. It is based on a subset of the JavaScript Programming Language, Standard ECMA-262 3rd Edition - December 1999. JSON is a text format that is completely language independent but uses conventions that are familiar to programmers of the C-family of languages, including C, C++, C#, Java, JavaScript, Perl, Python, and many others. These properties make JSON an ideal data interchange language.\\n\\nJSON is built on two structures:\\n\\n* A collection of name/value pairs. In various languages, this is realized as an object, record, struct, dictionary, hash table, keyed list, or associative array.\\n* An ordered list of values. In most languages, this is realized as an array, vector, list, or sequence.\\n\\nJSON is often used when data is sent from a server to a web page. It is a very common data format with diverse uses in electronic data interchange, including that of web applications with servers. JSON is often used with AJAX (asynchronous JavaScript and XML), allowing for the rapid exchange of small amounts of data between a web browser and a server. JSON is also frequently used when data is sent to a mobile device from a server.\\n\\nJSON is not a programming language, but it can be used as a data format within programming languages. JSON is often used with JavaScript, but it can also be used with other programming languages, such as Python, Ruby, and PHP. JSON is a text-based format, which means that it can be easily read and written by humans. This makes it a good choice for storing and transmitting data between different systems.\\n\\nJSON has several advantages over other data formats, including XML:\\n\\n* JSON is more lightweight than XML, which makes it faster to transmit and parse.\\n* JSON is easier to read and write than XML, which makes it more convenient for developers.\\n* JSON is more compact than XML, which means that it takes up less space when stored or transmitted.\\n* JSON is easier for machines to parse and generate than XML.\\n\\nJSON has become a popular choice for web applications, mobile applications, and other systems that need to transmit and store data in a lightweight, easy-to-use format. It is supported by most modern programming languages and platforms, making it a versatile choice for developers.',\n",
       "  ' JSON (JavaScript Object Notation) is a lightweight data interchange format that is easy for humans to read and write and easy for machines to parse and generate. It is based on a subset of the JavaScript Programming Language, Standard ECMA-262 3rd Edition - December 1999. JSON is a text format that is completely language independent but uses conventions that are familiar to programmers of the C-family of languages, including C, C++, C#, Java, JavaScript, Perl, Python, and many others. These properties make JSON an ideal data interchange language.\\n\\nJSON defines two structures:\\n\\n1. A collection of name/value pairs. In various languages, this is realized as an object, record, struct, dictionary, hash table, keyed list, or associative array.\\n2. An ordered list of values. In most languages, this is realized as an array, vector, list, or sequence.\\n\\nJSON also includes these data types:\\n\\n1. String (in double quotes)\\n2. Number (integer or floating point)\\n3. Boolean (true or false)\\n4. Array (ordered comma-separated list of values in square brackets)\\n5. Object (name/value pairs in curly braces, separated by commas)\\n6. Null (empty value, written as null)\\n7. Whitespace (optional and used for readability)\\n\\nJSON data is often stored in .json files or transmitted between a client and server using AJAX requests. JSON can be parsed and generated using libraries available in most programming languages. It is a popular choice for configuration files, data storage, and communication between web services because of its simplicity and ease of use. However, it lacks support for comments, dates, and other advanced data types, which can be added using conventions or alternative JSON variants like JSON5 and BSON.\\n\\nSources: [JSON](https://www.json.org/), [JSON structure and data types](https://developer.mozilla.org/en-US/docs/Learn/JavaScript/Objects/JSON#json_structure_and_data_types)',\n",
       "  ' JSON (JavaScript Object Notation) is a lightweight data-interchange format that is easy for humans to read and write and easy for machines to parse and generate. It is based on a subset of the JavaScript Programming Language, Standard ECMA-262 3rd Edition - December 1999. JSON is a text format that is completely language independent but uses conventions that are familiar to programmers of the C-family of languages, including C, C++, C#, Java, JavaScript, Perl, Python, and many others. These properties make JSON an ideal data-interchange language.\\n\\nJSON is built on two structures:\\n\\n* A collection of name/value pairs. In various languages, this is realized as an object, record, struct, dictionary, hash table, keyed list, or associative array.\\n* An ordered list of values. In most languages, this is realized as an array, vector, list, or sequence.\\n\\nHere are some uses of JSON by programmers:\\n\\n1. **Data Storage**: JSON can be used to store data in a structured format that is easy to parse and generate. This makes it ideal for storing configuration settings, user preferences, and other types of application data.\\n2. **Data Interchange**: JSON is often used as a format for exchanging data between different applications or systems. This is because it is lightweight, easy to parse, and widely supported by many programming languages.\\n3. **Web Development**: JSON is commonly used in web development to transmit data between a web server and a web browser. This is because it can be easily parsed by JavaScript, which is the language used to create dynamic web pages.\\n4. **Data Serialization**: JSON can be used to serialize complex data structures into a string format that can be transmitted over a network or stored in a file. This makes it ideal for storing and transmitting data between different systems or applications.\\n5. **Configuration Files**: JSON is often used to create configuration files that are easy to read and write. This makes it ideal for storing configuration settings, user preferences, and other types of application data.\\n\\nIn summary, JSON is a lightweight and widely-used format for exchanging and storing data in a structured format. It is based on a subset of the JavaScript Programming Language and is easy to parse and generate. JSON is commonly used in web development, data storage, data interchange, data serialization, and configuration files.'],\n",
       " [' JSON (JavaScript Object Notation) is a lightweight data interchange format that is easy for humans to read and write and easy for machines to parse and generate. It is based on a subset of the JavaScript Programming Language, Standard ECMA-262 3rd Edition - December 1999. JSON is a text format that is completely language independent but uses conventions that are familiar to programmers of the C-family of languages, including C, C++, C#, Java, JavaScript, Perl, Python, and many others. These properties make JSON an ideal data interchange language.\\n\\nJSON is built on two structures:\\n\\n* A collection of name/value pairs. In various languages, this is realized as an object, record, struct, dictionary, hash table, keyed list, or associative array.\\n* An ordered list of values. In most languages, this is realized as an array, vector, list, or sequence.\\n\\nA JSON document is a serialized object or array. It must begin with { (left brace) to denote the beginning of an object or [ (left bracket) to denote the beginning of an array. It ends with } (right brace) to denote the end of an object or ] (right bracket) to denote the end of an array. Each name is followed by : (colon) and the name/value pairs are separated by , (comma).\\n\\nJSON supports six types:\\n\\n* String: a sequence of zero or more Unicode characters\\n* Number: a sequence of digits that may include a decimal point, exponent, and positive or negative sign. JSON numbers can be written in decimal, hexadecimal, or scientific notation.\\n* Object: an unordered collection of name/value pairs where the names are strings and the values can be any of the six types. Objects are delimited with curly braces {}.\\n* Array: an ordered collection of zero or more values where the values can be any of the six types. Arrays are delimited with square brackets [].\\n* Boolean: either true or false. In JSON, booleans are case-sensitive.\\n* Null: empty value. In JSON, null is used to represent an empty value or the absence of a value.\\n\\nJSON does not support comments or advanced data types like dates, but it can be extended with conventions. For example, dates can be serialized in a string format like \"2022-10-31T09:00:00Z\". JSON is often used for data exchange between web services and clients, configuration files, and data storage. It is simple, fast, and easy to use, making it a popular choice for many applications.',\n",
       "  ' JSON (JavaScript Object Notation) is a lightweight data interchange format that is easy to read and write for humans and easy to parse and generate for machines. It is based on a subset of the JavaScript Programming Language, Standard ECMA-262 3rd Edition - December 1999. JSON is a text format that is completely language independent but uses conventions that are familiar to programmers of the C-family of languages, including C, C++, C#, Java, JavaScript, Perl, Python, and many others.\\n\\nJSON is built on two structures:\\n\\n1. A collection of name/value pairs. In various languages, this is realized as an object, record, struct, dictionary, hash table, keyed list, or associative array.\\n2. An ordered list of values. In most languages, this is realized as an array, vector, list, or sequence.\\n\\nHere\\'s an example of a JSON text:\\n\\n{\\n  \"name\": \"John\",\\n  \"age\": 30,\\n  \"city\": \"New York\"\\n}\\n\\nJSON syntax and rules include the following:\\n\\n* Data types: string, number, object, array, true, false, and null.\\n* Key-value pairs in JSON are also called objects.\\n* The key must be a string in JSON objects.\\n* Combining multiple data types on the root level is impossible.\\n* JSON arrays can consist of multiple data types as in the example below.\\n* JSON numbers can be decimals or in scientific notation.\\n* JSON numbers are not allowed to have a leading zero.\\n* JSON is widely used and supported in many programming languages, making it relatively easy to get started using it.\\n\\nDouglas Crockford first specified JSON in the early 2000s, and Ecma International standardized it in 2013 as ECMA-404. The specification was last updated in 2017, which describes the valid syntax of JSON. Another official specification of JSON is RFC 8259, published by Internet Engineering Task Force (IETF).',\n",
       "  ' The text does not provide information about JSON or a 403 error. However, I will provide an objective explanation of JSON for a technical audience:\\n\\nJSON (JavaScript Object Notation) is a lightweight data interchange format that is easy for humans to read and write and easy for machines to parse and generate. It is based on a subset of the JavaScript Programming Language, Standard ECMA-262 3rd Edition - December 1999. JSON is a text format that is completely language independent but uses conventions that are familiar to programmers of the C-family of languages, including C, C++, C#, Java, JavaScript, Perl, Python, and many others. These properties make JSON an ideal data interchange language.\\n\\nJSON is built on two structures:\\n\\n1. A collection of name/value pairs. In various languages, this is realized as an object, record, struct, dictionary, hash table, keyed list, or associative array.\\n2. An ordered list of values. In most languages, this is realized as an array, vector, list, or sequence.\\n\\nHere is a JSON example:\\n```json\\n{\\n  \"employees\": [\\n    {\\n      \"firstName\": \"John\",\\n      \"lastName\": \"Doe\"\\n    },\\n    {\\n      \"firstName\": \"Anna\",\\n      \"lastName\": \"Smith\"\\n    },\\n    {\\n      \"firstName\": \"Peter\",\\n      \"lastName\": \"Jones\"\\n    }\\n  ]\\n}\\n```\\nIn this example, employees is an array (or list) with three objects (or records). Each object has a firstName and lastName property.\\n\\nJSON is often used when data is sent from a server to a web page. It is a very common data format with diverse uses in electronic data interchange, including that of web applications with servers.']]"
      ]
     },
     "execution_count": 39,
     "metadata": {},
     "output_type": "execute_result"
    }
   ],
   "source": [
    "questions_generation = (\n",
    "    \"Write 3 google search queries to search online that form an objective \"\n",
    "    \"opinion from the following question: {question}\\n \"\n",
    "    \"Return a python list in the following format: \"\n",
    "    \"['query 1', 'query 2', 'query 3']\\n \"\n",
    "    \"Do not include anything else after the list.\"\n",
    ")\n",
    "\n",
    "SEARCH_PROMPT = ChatPromptTemplate.from_messages([(\"user\", questions_generation)])\n",
    "\n",
    "search_qanda_chain = (\n",
    "    SEARCH_PROMPT\n",
    "    | ChatOllama(model=LLM_MODEL)\n",
    "    | StrOutputParser()\n",
    "    | eval\n",
    "    | (lambda l: [{\"question\": q} for q in l])\n",
    ")\n",
    "\n",
    "full_research_chain = search_qanda_chain | web_search_chain.map()\n",
    "\n",
    "lol = full_research_chain.invoke({\"question\": \"what is json?\"})\n",
    "lol"
   ]
  },
  {
   "cell_type": "markdown",
   "metadata": {},
   "source": [
    "### Report Writer Chain"
   ]
  },
  {
   "cell_type": "code",
   "execution_count": 40,
   "metadata": {},
   "outputs": [],
   "source": [
    "def collapse_list_of_lists(list_of_lists):\n",
    "    content = []\n",
    "    for l in list_of_lists:\n",
    "        content.append(\"\\n\\n\".join(l))\n",
    "    return \"\\n\\n\".join(content)"
   ]
  },
  {
   "cell_type": "code",
   "execution_count": 41,
   "metadata": {},
   "outputs": [
    {
     "data": {
      "text/plain": [
       "' JSON (JavaScript Object Notation) is a lightweight data interchange format that is easy for humans to read and write and easy for machines to parse and generate. It is based on a subset of the JavaScript Programming Language, Standard ECMA-262 3rd Edition - December 1999. JSON is a text format that is completely language independent but uses conventions that are familiar to programmers of the C-family of languages, including C, C++, C#, Java, JavaScript, Perl, Python, and many others. These properties make JSON an ideal data-interchange language.\\n\\nJSON is built on two structures:\\n\\n* A collection of name/value pairs. In various languages, this is realized as an object, record, struct, dictionary, hash table, keyed list, or associative array.\\n* An ordered list of values. In most languages, this is realized as an array, vector, list, or sequence.\\n\\nAn object is an unordered set of name/value pairs, where a name is a string and a value is a string, number, boolean, null, object, or array.\\n\\nThe JSON format is described by two specifications: ECMA-404 and RFC 8259 . The text provided mentions that JSON was first specified by Douglas Crockford in the early 2000s and was standardized by Ecma International in 2013.\\n\\nJSON syntax is similar to JavaScript\\'s object literals, with key-value pairs also called objects. JSON supports similar data types as JavaScript: string, number, object, array, true, false, and null. JSON arrays can consist of multiple data types, including other arrays. JSON objects can specify any of the supported data types, but the key must be a string.\\n\\nJSON is widely used and supported in many programming languages, making it easy to find information on how to use the format. The difficulty of using JSON for configuration or data transferring depends on the programming language and understanding of the required functionality used for the processes. However, JSON tools are available to make the process easier.\\n\\n JSON (JavaScript Object Notation) is a lightweight data interchange format that is easy for humans to read and write and easy for machines to parse and generate. It is based on a subset of the JavaScript Programming Language, Standard ECMA-262 3rd Edition - December 1999. JSON is a text format that is completely language independent but uses conventions that are familiar to programmers of the C-family of languages, including C, C++, C#, Java, JavaScript, Perl, Python, and many others. These properties make JSON an ideal data-interchange language.\\n\\nJSON is often used for storing and exchanging data between a server and web application, transmitting data in web applications, configuration files, game settings, communication between microservices, and storing data in databases or flat files. It is widely used due to its simplicity, readability, and flexibility.\\n\\nIn summary, JSON is a popular and versatile format for storing and exchanging data in web development and other applications that require structured data representation and transmission.\\n\\n JSON (JavaScript Object Notation) is a lightweight data interchange format that is easy for humans to read and write and easy for machines to parse and generate. It is based on a subset of the JavaScript Programming Language, Standard ECMA-262 3rd Edition - December 1999. JSON is a text format that is completely language independent but uses conventions that are familiar to programmers of the C-family of languages, including C, C++, C#, Java, JavaScript, Perl, Python, and many others. These properties make JSON an ideal data interchange language. JSON is built on two structures:\\n\\n* A collection of name/value pairs. In various languages, this is realized as an object, record, struct, dictionary, hash table, keyed list, or associative array.\\n* An ordered list of values. In most languages, this is realized as an array, vector, list, or sequence.\\n\\nJSON syntax:\\n{\\n\"name\": \"value\",\\n...\\n}\\n\\nJSON example:\\n```json\\n{\\n  \"firstName\": \"John\",\\n  \"lastName\": \"Smith\",\\n  \"isStudent\": false,\\n  \"age\": 25,\\n  \"address\": {\\n    \"street\": \"21 2nd Street\",\\n    \"city\": \"New York\",\\n    \"state\": \"NY\",\\n    \"postalCode\": \"10021\"\\n  },\\n  \"phoneNumbers\": [\\n    {\\n      \"type\": \"home\",\\n      \"number\": \"212 555-1234\"\\n    },\\n    {\\n      \"type\": \"office\",\\n      \"number\": \"646 555-4567\"\\n    }\\n  ],\\n  \"socialProfiles\": {\\n    \"github\": \"johnsmith\",\\n    \"twitter\": \"@johnsmith\"\\n  }\\n}\\n```\\nJSON is often used with AJAX (Asynchronous JavaScript and XML) to retrieve data from a server as an alternative to using XML. JSON is more lightweight than XML and easier for machines to parse and generate, making it a popular choice for web applications. JSON can be used with any programming language that supports text-based communication, making it a versatile choice for data interchange.\\n\\n JSON (JavaScript Object Notation) is a lightweight data interchange format that is easy for humans to read and write and easy for machines to parse and generate. It is based on a subset of the JavaScript Programming Language, Standard ECMA-262 3rd Edition - December 1999. JSON is a text format that is completely language independent but uses conventions that are familiar to programmers of the C-family of languages, including C, C++, C#, Java, JavaScript, Perl, Python, and many others. These properties make JSON an ideal data interchange language.\\n\\nJSON is built on two structures:\\n\\n* A collection of name/value pairs. In various languages, this is realized as an object, record, struct, dictionary, hash table, keyed list, or associative array.\\n* An ordered list of values. In most languages, this is realized as an array, vector, list, or sequence.\\n\\nJSON is often used when data is sent from a server to a web page. It is a very common data format with diverse uses in electronic data interchange, including that of web applications with servers. JSON is often used with AJAX (asynchronous JavaScript and XML), allowing for the rapid exchange of small amounts of data between a web browser and a server. JSON is also frequently used when data is sent to a mobile device from a server.\\n\\nJSON is not a programming language, but it can be used as a data format within programming languages. JSON is often used with JavaScript, but it can also be used with other programming languages, such as Python, Ruby, and PHP. JSON is a text-based format, which means that it can be easily read and written by humans. This makes it a good choice for storing and transmitting data between different systems.\\n\\nJSON has several advantages over other data formats, including XML:\\n\\n* JSON is more lightweight than XML, which makes it faster to transmit and parse.\\n* JSON is easier to read and write than XML, which makes it more convenient for developers.\\n* JSON is more compact than XML, which means that it takes up less space when stored or transmitted.\\n* JSON is easier for machines to parse and generate than XML.\\n\\nJSON has become a popular choice for web applications, mobile applications, and other systems that need to transmit and store data in a lightweight, easy-to-use format. It is supported by most modern programming languages and platforms, making it a versatile choice for developers.\\n\\n JSON (JavaScript Object Notation) is a lightweight data interchange format that is easy for humans to read and write and easy for machines to parse and generate. It is based on a subset of the JavaScript Programming Language, Standard ECMA-262 3rd Edition - December 1999. JSON is a text format that is completely language independent but uses conventions that are familiar to programmers of the C-family of languages, including C, C++, C#, Java, JavaScript, Perl, Python, and many others. These properties make JSON an ideal data interchange language.\\n\\nJSON defines two structures:\\n\\n1. A collection of name/value pairs. In various languages, this is realized as an object, record, struct, dictionary, hash table, keyed list, or associative array.\\n2. An ordered list of values. In most languages, this is realized as an array, vector, list, or sequence.\\n\\nJSON also includes these data types:\\n\\n1. String (in double quotes)\\n2. Number (integer or floating point)\\n3. Boolean (true or false)\\n4. Array (ordered comma-separated list of values in square brackets)\\n5. Object (name/value pairs in curly braces, separated by commas)\\n6. Null (empty value, written as null)\\n7. Whitespace (optional and used for readability)\\n\\nJSON data is often stored in .json files or transmitted between a client and server using AJAX requests. JSON can be parsed and generated using libraries available in most programming languages. It is a popular choice for configuration files, data storage, and communication between web services because of its simplicity and ease of use. However, it lacks support for comments, dates, and other advanced data types, which can be added using conventions or alternative JSON variants like JSON5 and BSON.\\n\\nSources: [JSON](https://www.json.org/), [JSON structure and data types](https://developer.mozilla.org/en-US/docs/Learn/JavaScript/Objects/JSON#json_structure_and_data_types)\\n\\n JSON (JavaScript Object Notation) is a lightweight data-interchange format that is easy for humans to read and write and easy for machines to parse and generate. It is based on a subset of the JavaScript Programming Language, Standard ECMA-262 3rd Edition - December 1999. JSON is a text format that is completely language independent but uses conventions that are familiar to programmers of the C-family of languages, including C, C++, C#, Java, JavaScript, Perl, Python, and many others. These properties make JSON an ideal data-interchange language.\\n\\nJSON is built on two structures:\\n\\n* A collection of name/value pairs. In various languages, this is realized as an object, record, struct, dictionary, hash table, keyed list, or associative array.\\n* An ordered list of values. In most languages, this is realized as an array, vector, list, or sequence.\\n\\nHere are some uses of JSON by programmers:\\n\\n1. **Data Storage**: JSON can be used to store data in a structured format that is easy to parse and generate. This makes it ideal for storing configuration settings, user preferences, and other types of application data.\\n2. **Data Interchange**: JSON is often used as a format for exchanging data between different applications or systems. This is because it is lightweight, easy to parse, and widely supported by many programming languages.\\n3. **Web Development**: JSON is commonly used in web development to transmit data between a web server and a web browser. This is because it can be easily parsed by JavaScript, which is the language used to create dynamic web pages.\\n4. **Data Serialization**: JSON can be used to serialize complex data structures into a string format that can be transmitted over a network or stored in a file. This makes it ideal for storing and transmitting data between different systems or applications.\\n5. **Configuration Files**: JSON is often used to create configuration files that are easy to read and write. This makes it ideal for storing configuration settings, user preferences, and other types of application data.\\n\\nIn summary, JSON is a lightweight and widely-used format for exchanging and storing data in a structured format. It is based on a subset of the JavaScript Programming Language and is easy to parse and generate. JSON is commonly used in web development, data storage, data interchange, data serialization, and configuration files.\\n\\n JSON (JavaScript Object Notation) is a lightweight data interchange format that is easy for humans to read and write and easy for machines to parse and generate. It is based on a subset of the JavaScript Programming Language, Standard ECMA-262 3rd Edition - December 1999. JSON is a text format that is completely language independent but uses conventions that are familiar to programmers of the C-family of languages, including C, C++, C#, Java, JavaScript, Perl, Python, and many others. These properties make JSON an ideal data interchange language.\\n\\nJSON is built on two structures:\\n\\n* A collection of name/value pairs. In various languages, this is realized as an object, record, struct, dictionary, hash table, keyed list, or associative array.\\n* An ordered list of values. In most languages, this is realized as an array, vector, list, or sequence.\\n\\nA JSON document is a serialized object or array. It must begin with { (left brace) to denote the beginning of an object or [ (left bracket) to denote the beginning of an array. It ends with } (right brace) to denote the end of an object or ] (right bracket) to denote the end of an array. Each name is followed by : (colon) and the name/value pairs are separated by , (comma).\\n\\nJSON supports six types:\\n\\n* String: a sequence of zero or more Unicode characters\\n* Number: a sequence of digits that may include a decimal point, exponent, and positive or negative sign. JSON numbers can be written in decimal, hexadecimal, or scientific notation.\\n* Object: an unordered collection of name/value pairs where the names are strings and the values can be any of the six types. Objects are delimited with curly braces {}.\\n* Array: an ordered collection of zero or more values where the values can be any of the six types. Arrays are delimited with square brackets [].\\n* Boolean: either true or false. In JSON, booleans are case-sensitive.\\n* Null: empty value. In JSON, null is used to represent an empty value or the absence of a value.\\n\\nJSON does not support comments or advanced data types like dates, but it can be extended with conventions. For example, dates can be serialized in a string format like \"2022-10-31T09:00:00Z\". JSON is often used for data exchange between web services and clients, configuration files, and data storage. It is simple, fast, and easy to use, making it a popular choice for many applications.\\n\\n JSON (JavaScript Object Notation) is a lightweight data interchange format that is easy to read and write for humans and easy to parse and generate for machines. It is based on a subset of the JavaScript Programming Language, Standard ECMA-262 3rd Edition - December 1999. JSON is a text format that is completely language independent but uses conventions that are familiar to programmers of the C-family of languages, including C, C++, C#, Java, JavaScript, Perl, Python, and many others.\\n\\nJSON is built on two structures:\\n\\n1. A collection of name/value pairs. In various languages, this is realized as an object, record, struct, dictionary, hash table, keyed list, or associative array.\\n2. An ordered list of values. In most languages, this is realized as an array, vector, list, or sequence.\\n\\nHere\\'s an example of a JSON text:\\n\\n{\\n  \"name\": \"John\",\\n  \"age\": 30,\\n  \"city\": \"New York\"\\n}\\n\\nJSON syntax and rules include the following:\\n\\n* Data types: string, number, object, array, true, false, and null.\\n* Key-value pairs in JSON are also called objects.\\n* The key must be a string in JSON objects.\\n* Combining multiple data types on the root level is impossible.\\n* JSON arrays can consist of multiple data types as in the example below.\\n* JSON numbers can be decimals or in scientific notation.\\n* JSON numbers are not allowed to have a leading zero.\\n* JSON is widely used and supported in many programming languages, making it relatively easy to get started using it.\\n\\nDouglas Crockford first specified JSON in the early 2000s, and Ecma International standardized it in 2013 as ECMA-404. The specification was last updated in 2017, which describes the valid syntax of JSON. Another official specification of JSON is RFC 8259, published by Internet Engineering Task Force (IETF).\\n\\n The text does not provide information about JSON or a 403 error. However, I will provide an objective explanation of JSON for a technical audience:\\n\\nJSON (JavaScript Object Notation) is a lightweight data interchange format that is easy for humans to read and write and easy for machines to parse and generate. It is based on a subset of the JavaScript Programming Language, Standard ECMA-262 3rd Edition - December 1999. JSON is a text format that is completely language independent but uses conventions that are familiar to programmers of the C-family of languages, including C, C++, C#, Java, JavaScript, Perl, Python, and many others. These properties make JSON an ideal data interchange language.\\n\\nJSON is built on two structures:\\n\\n1. A collection of name/value pairs. In various languages, this is realized as an object, record, struct, dictionary, hash table, keyed list, or associative array.\\n2. An ordered list of values. In most languages, this is realized as an array, vector, list, or sequence.\\n\\nHere is a JSON example:\\n```json\\n{\\n  \"employees\": [\\n    {\\n      \"firstName\": \"John\",\\n      \"lastName\": \"Doe\"\\n    },\\n    {\\n      \"firstName\": \"Anna\",\\n      \"lastName\": \"Smith\"\\n    },\\n    {\\n      \"firstName\": \"Peter\",\\n      \"lastName\": \"Jones\"\\n    }\\n  ]\\n}\\n```\\nIn this example, employees is an array (or list) with three objects (or records). Each object has a firstName and lastName property.\\n\\nJSON is often used when data is sent from a server to a web page. It is a very common data format with diverse uses in electronic data interchange, including that of web applications with servers.'"
      ]
     },
     "execution_count": 41,
     "metadata": {},
     "output_type": "execute_result"
    }
   ],
   "source": [
    "collapse_list_of_lists(lol)"
   ]
  },
  {
   "cell_type": "markdown",
   "metadata": {},
   "source": [
    "### Research Writer Prompt"
   ]
  },
  {
   "cell_type": "code",
   "execution_count": 47,
   "metadata": {},
   "outputs": [],
   "source": [
    "WRITER_SYSTEM_PROMPT = (\n",
    "    \"You are an AI critical thinker research assistant. Your sole purpose \"\n",
    "    \"is to write well written, critically acclaimed, objective and structured \"\n",
    "    \"reports on given text.\"\n",
    ")\n",
    "\n",
    "RESEARCH_REPORT_TEMPLATE = \"\"\"Information:\n",
    "--------\n",
    "{research_summary}\n",
    "--------\n",
    "Using the above information, answer the following question or topic: \"{question}\" \n",
    "in a detailed reseach report format. The report should focus on the answer to the question, \n",
    "should be well structured, informative,\n",
    "in depth, with facts and numbers if available and a minimum of 1,200 words.\n",
    "You should strive to write the report as long as you can using all relevant \n",
    "and necessary information provided.\n",
    "You must write the report with markdown syntax.\n",
    "You MUST determine your own concrete and valid opinion based on the given \n",
    "information. Do NOT deter to general and meaningless conclusions.\n",
    "Write all used source urls at the end of the report, and make sure to not \n",
    "add duplicated sources, but only one reference for each.\n",
    "You must write the report in apa format.\n",
    "Please do your best, this is very important to my career.\"\"\"\n",
    "\n",
    "research_writer_prompt = ChatPromptTemplate.from_messages(\n",
    "    [(\"system\", WRITER_SYSTEM_PROMPT), (\"user\", RESEARCH_REPORT_TEMPLATE)]\n",
    ")"
   ]
  },
  {
   "cell_type": "markdown",
   "metadata": {},
   "source": [
    "### Research Writer Chain"
   ]
  },
  {
   "cell_type": "code",
   "execution_count": 48,
   "metadata": {},
   "outputs": [],
   "source": [
    "research_writer_chain = (\n",
    "    RunnablePassthrough.assign(\n",
    "        research_summary=full_research_chain | collapse_list_of_lists\n",
    "    )\n",
    "    | research_writer_prompt\n",
    "    | ChatOllama(model=LLM_MODEL)\n",
    "    | StrOutputParser()\n",
    ")"
   ]
  },
  {
   "cell_type": "code",
   "execution_count": 49,
   "metadata": {},
   "outputs": [
    {
     "data": {
      "text/plain": [
       "\" Introduction\\n\\nLangChain and LangSmith are two tools used in the development of language models, but they serve different purposes. While LangChain is an open-source tool for building and deploying large language models (LLMs), LangSmith is a platform for managing LLM applications. This report will provide an in-depth comparison between the two tools, including their features, use cases, and advantages.\\n\\nLangChain\\n\\nLangChain is an open-source library that provides various modules and classes to create a chat-based AI environment. It allows developers to build language models by initializing an agent that generates responses based on descriptions. LangChain can be installed using pip, and the runtime environment must be configured by setting some environment variables. The library also provides a ChatOpenAI class that loads specific tools for different tasks.\\n\\nLangSmith\\n\\nLangSmith is a platform that allows developers to set up a development environment and use LangChain components to build language models. It offers features for version control, experimenting, and deploying LLM applications at scale. LangSmith provides traces that show the text coming in and out of chains and LLMs, allowing developers to see the AI's decision-making process. The platform includes various tiers of pricing, which may vary depending on the scale and complexity of the project.\\n\\nComparing LangChain and LangSmith\\n\\nWhile both tools help build language model applications, they serve different purposes. LangChain is best for prototyping and testing, while LangSmith is ideal for production-level deployments. LangChain's code is not publicly available on GitHub, but LangSmith may have open-source components available on the platform. Getting an invite code for LangSmith might require joining a waitlist or receiving an invitation from an existing user.\\n\\nLangChain and LangSmith can be used together or separately, depending on the needs of the project. In the context of HelpHub, LangSmith is used to trace and evaluate the performance of the LLM powering the chatbot, allowing CommandBar to improve its accuracy and reliability. The text also mentions that CommandBar has traced over 10 million tokens using LangSmith for HelpHub, which equates to around 1.5 million prompts per week.\\n\\nAdvantages of LangChain\\n\\nLangChain is an open-source tool, making it accessible and customizable for developers. It provides various modules and classes that can be used to create a chat-based AI environment, allowing developers to build language models quickly. LangChain also supports different tools for different tasks, making it versatile and flexible.\\n\\nAdvantages of LangSmith\\n\\nLangSmith offers features for version control, experimenting, and deploying LLM applications at scale, making it ideal for production-level deployments. It provides traces that show the text coming in and out of chains and LLMs, allowing developers to see the AI's decision-making process. LangSmith also includes various tiers of pricing, which may vary depending on the scale and complexity of the project.\\n\\nConclusion\\n\\nWhile both LangChain and LangSmith serve different purposes, they can be used together or separately, depending on the needs of the project. LangChain is best for prototyping and testing, while LangSmith is ideal for production-level deployments. LangChain is an open-source tool that provides various modules and classes to create a chat-based AI environment, while LangSmith offers features for version control, experimenting, and deploying LLM applications at scale. Both tools have their advantages, but LangSmith's potential as a lightweight moat and its need to expand in scope make it an exciting tool to watch.\\n\\nReferences\\n\\n* CommandBar. (2021, September 3). Introducing LangSmith: A lightweight moat for the LLM era. Medium. <https://medium.com/commandbar/introducing-langsmith-a-lightweight-moat-for-the-llm-era-72940f76c38e>\\n* LangChain. (n.d.). LangChain. GitHub. <https://github.com/langchain/langchain>\\n* LangSmith. (n.d.). Welcome to LangSmith. LangSmith. <https://langsmith.io/>\\n* OpenAI. (2021, September 3). Introducing LangSmith: A lightweight moat for the LLM era. Medium. <https://medium.com/openai/introducing-langsmith-a-lightweight-moat-for-the-llm-era-4e527f819d3b>\\n* Srinivasan, R. (2021, September 3). Introducing LangSmith: A lightweight moat for the LLM era. Medium. <https://medium.com/@balajis/introducing-langsmith-a-lightweight-moat-for-the-llm-era-72940f76c38e>\""
      ]
     },
     "execution_count": 49,
     "metadata": {},
     "output_type": "execute_result"
    }
   ],
   "source": [
    "research_writer_chain.invoke({\"question\": \"What is the difference between LangChain and LangSmith?\"})"
   ]
  }
 ],
 "metadata": {
  "kernelspec": {
   "display_name": "Python 3 (ipykernel)",
   "language": "python",
   "name": "python3"
  }
 },
 "nbformat": 4,
 "nbformat_minor": 2
}
