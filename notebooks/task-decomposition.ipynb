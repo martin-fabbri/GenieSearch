{
 "cells": [
  {
   "cell_type": "markdown",
   "metadata": {},
   "source": [
    "### Install Dependencies"
   ]
  },
  {
   "cell_type": "code",
   "execution_count": 1,
   "metadata": {},
   "outputs": [
    {
     "name": "stdout",
     "output_type": "stream",
     "text": [
      "\u001b[31mERROR: pip's dependency resolver does not currently take into account all the packages that are installed. This behaviour is the source of the following dependency conflicts.\n",
      "pytest 7.2.1 requires attrs>=19.2.0, but you have attrs 18.2.0 which is incompatible.\n",
      "gradient 2.0.6 requires marshmallow<3.0, but you have marshmallow 3.21.0 which is incompatible.\u001b[0m\u001b[31m\n",
      "\u001b[0m\u001b[33mWARNING: Running pip as the 'root' user can result in broken permissions and conflicting behaviour with the system package manager. It is recommended to use a virtual environment instead: https://pip.pypa.io/warnings/venv\u001b[0m\u001b[33m\n",
      "\u001b[0mNote: you may need to restart the kernel to use updated packages.\n",
      "\u001b[33mWARNING: Running pip as the 'root' user can result in broken permissions and conflicting behaviour with the system package manager. It is recommended to use a virtual environment instead: https://pip.pypa.io/warnings/venv\u001b[0m\u001b[33m\n",
      "\u001b[0mNote: you may need to restart the kernel to use updated packages.\n",
      "\u001b[31mERROR: pip's dependency resolver does not currently take into account all the packages that are installed. This behaviour is the source of the following dependency conflicts.\n",
      "gradient 2.0.6 requires marshmallow<3.0, but you have marshmallow 3.21.0 which is incompatible.\u001b[0m\u001b[31m\n",
      "\u001b[0m\u001b[33mWARNING: Running pip as the 'root' user can result in broken permissions and conflicting behaviour with the system package manager. It is recommended to use a virtual environment instead: https://pip.pypa.io/warnings/venv\u001b[0m\u001b[33m\n",
      "\u001b[0mNote: you may need to restart the kernel to use updated packages.\n",
      "\u001b[33mWARNING: Running pip as the 'root' user can result in broken permissions and conflicting behaviour with the system package manager. It is recommended to use a virtual environment instead: https://pip.pypa.io/warnings/venv\u001b[0m\u001b[33m\n",
      "\u001b[0mNote: you may need to restart the kernel to use updated packages.\n",
      "\u001b[33mWARNING: Running pip as the 'root' user can result in broken permissions and conflicting behaviour with the system package manager. It is recommended to use a virtual environment instead: https://pip.pypa.io/warnings/venv\u001b[0m\u001b[33m\n",
      "\u001b[0mNote: you may need to restart the kernel to use updated packages.\n",
      "\u001b[33mWARNING: Running pip as the 'root' user can result in broken permissions and conflicting behaviour with the system package manager. It is recommended to use a virtual environment instead: https://pip.pypa.io/warnings/venv\u001b[0m\u001b[33m\n",
      "\u001b[0mNote: you may need to restart the kernel to use updated packages.\n",
      "\u001b[31mERROR: pip's dependency resolver does not currently take into account all the packages that are installed. This behaviour is the source of the following dependency conflicts.\n",
      "spacy 3.4.1 requires pydantic!=1.8,!=1.8.1,<1.10.0,>=1.7.4, but you have pydantic 1.10.8 which is incompatible.\u001b[0m\u001b[31m\n",
      "\u001b[0m\u001b[33mWARNING: Running pip as the 'root' user can result in broken permissions and conflicting behaviour with the system package manager. It is recommended to use a virtual environment instead: https://pip.pypa.io/warnings/venv\u001b[0m\u001b[33m\n",
      "\u001b[0mNote: you may need to restart the kernel to use updated packages.\n"
     ]
    }
   ],
   "source": [
    "%pip install --q langchain-community\n",
    "%pip install --q langchain\n",
    "%pip install --q duckduckgo-search\n",
    "\n",
    "# TODO: add the following packages to poetry\n",
    "%pip install --q requests\n",
    "%pip install --q beautifulsoup4\n",
    "\n",
    "#################################\n",
    "# Required for PaperSpace Gradient\n",
    "%pip install --q typing-inspect==0.8.0 typing_extensions==4.5.0\n",
    "%pip install --q pydantic==1.10.8"
   ]
  },
  {
   "cell_type": "markdown",
   "metadata": {},
   "source": [
    "### Setup Ollama"
   ]
  },
  {
   "cell_type": "code",
   "execution_count": 6,
   "metadata": {},
   "outputs": [
    {
     "name": "stdout",
     "output_type": "stream",
     "text": [
      "NAME                   \tID          \tSIZE  \tMODIFIED      \n",
      "mixtral:instruct       \t7708c059a8bb\t26 GB \t6 seconds ago\t\n",
      "nomic-embed-text:latest\t0a109f422b47\t274 MB\t4 minutes ago\t\n"
     ]
    }
   ],
   "source": [
    "# %> curl -fsSL https://ollama.com/install.sh | sh\n",
    "# %> ollama serve\n",
    "# %> ollama pull nomic-embed-text     ???? do we need a retriever???\n",
    "# %> ollama pull mixtral:instruct     (gemma:7b-instruct | mistral:instruct)\n",
    "\n",
    "!ollama list"
   ]
  },
  {
   "cell_type": "markdown",
   "metadata": {},
   "source": [
    "### Accelerator Info"
   ]
  },
  {
   "cell_type": "code",
   "execution_count": 7,
   "metadata": {},
   "outputs": [
    {
     "name": "stdout",
     "output_type": "stream",
     "text": [
      "Tue Feb 27 22:04:19 2024       \n",
      "+-----------------------------------------------------------------------------+\n",
      "| NVIDIA-SMI 525.116.04   Driver Version: 525.116.04   CUDA Version: 12.0     |\n",
      "|-------------------------------+----------------------+----------------------+\n",
      "| GPU  Name        Persistence-M| Bus-Id        Disp.A | Volatile Uncorr. ECC |\n",
      "| Fan  Temp  Perf  Pwr:Usage/Cap|         Memory-Usage | GPU-Util  Compute M. |\n",
      "|                               |                      |               MIG M. |\n",
      "|===============================+======================+======================|\n",
      "|   0  NVIDIA RTX A6000    On   | 00000000:00:05.0 Off |                  Off |\n",
      "| 30%   46C    P8    21W / 300W |      1MiB / 49140MiB |      0%      Default |\n",
      "|                               |                      |                  N/A |\n",
      "+-------------------------------+----------------------+----------------------+\n",
      "                                                                               \n",
      "+-----------------------------------------------------------------------------+\n",
      "| Processes:                                                                  |\n",
      "|  GPU   GI   CI        PID   Type   Process name                  GPU Memory |\n",
      "|        ID   ID                                                   Usage      |\n",
      "|=============================================================================|\n",
      "|  No running processes found                                                 |\n",
      "+-----------------------------------------------------------------------------+\n"
     ]
    }
   ],
   "source": [
    "!nvidia-smi"
   ]
  },
  {
   "cell_type": "markdown",
   "metadata": {},
   "source": [
    "### Prompt"
   ]
  },
  {
   "cell_type": "code",
   "execution_count": 8,
   "metadata": {},
   "outputs": [],
   "source": [
    "template = \"\"\"{text}\n",
    "-----------\n",
    "Using the above text, answer in short the following question:\n",
    "> {question}\n",
    "-----------\n",
    "if the question cannot be answered using the text, imply summarize the text. Include all\n",
    "factual information, numbers, stats etc if available.\n",
    "\"\"\""
   ]
  },
  {
   "cell_type": "code",
   "execution_count": 9,
   "metadata": {},
   "outputs": [],
   "source": [
    "from langchain_core.prompts import ChatPromptTemplate\n",
    "prompt = ChatPromptTemplate.from_template(template)"
   ]
  },
  {
   "cell_type": "markdown",
   "metadata": {},
   "source": [
    "### Ingest Documents"
   ]
  },
  {
   "cell_type": "code",
   "execution_count": 10,
   "metadata": {},
   "outputs": [],
   "source": [
    "import requests\n",
    "from bs4 import BeautifulSoup\n",
    "\n",
    "def scrape_url(url: str):\n",
    "    try:\n",
    "        # set a get request to webpage\n",
    "        response = requests.get(url)\n",
    "\n",
    "        # if the request response was successful\n",
    "        if (response.status_code == 200):\n",
    "            # parse the content of the request\n",
    "            soup = BeautifulSoup(response.text, \"html.parser\")\n",
    "            text_content = soup.get_text(separator=\" \", strip=True)\n",
    "            return text_content\n",
    "        else:\n",
    "            return f\"Failed to retrieve page: {response.status_code}\"\n",
    "    except Exception as e:\n",
    "        print(e)    \n",
    "\n",
    "    return \"\""
   ]
  },
  {
   "cell_type": "code",
   "execution_count": 11,
   "metadata": {},
   "outputs": [],
   "source": [
    "url = \"https://blog.langchain.dev/announcing-langsmith/\"\n",
    "\n",
    "content = scrape_url(url)[:10000]"
   ]
  },
  {
   "cell_type": "markdown",
   "metadata": {},
   "source": [
    "### Setup Local LLM & Embedding Models"
   ]
  },
  {
   "cell_type": "code",
   "execution_count": 12,
   "metadata": {},
   "outputs": [],
   "source": [
    "LLM_MODEL = \"mixtral:instruct\"  # (\"gemma:7b-instruct\" | \"mistral:instruct\")\n",
    "EMBEDDING_MODEL = \"nomic-embed-text\"\n",
    "TEMPERATURE = 0.9\n",
    "ENABLE_TRACING = False\n",
    "DOCUMENT_CHUNK_SIZE = 7500  # Gemma --> DOCUMENT_CHUNK_SIZE=5000\n",
    "CHUNK_OVERLAP = 100"
   ]
  },
  {
   "cell_type": "markdown",
   "metadata": {},
   "source": [
    "#### Load & Test Local LLM Model"
   ]
  },
  {
   "cell_type": "markdown",
   "metadata": {},
   "source": [
    "#### Testing the Ollama model. No need to import separate llm model."
   ]
  },
  {
   "cell_type": "code",
   "execution_count": 13,
   "metadata": {},
   "outputs": [
    {
     "name": "stderr",
     "output_type": "stream",
     "text": [
      "/usr/local/lib/python3.9/dist-packages/langchain_core/_api/deprecation.py:117: LangChainDeprecationWarning: The function `__call__` was deprecated in LangChain 0.1.7 and will be removed in 0.2.0. Use invoke instead.\n",
      "  warn_deprecated(\n"
     ]
    },
    {
     "data": {
      "text/plain": [
       "' I am a language model trained by the Mistral AI team. I generate text based on the input I receive, and my purpose is to provide useful, safe, and accurate information.'"
      ]
     },
     "execution_count": 13,
     "metadata": {},
     "output_type": "execute_result"
    }
   ],
   "source": [
    "from langchain.llms import Ollama\n",
    "\n",
    "_test_llm_model_ = Ollama(\n",
    "    model=LLM_MODEL,\n",
    "    temperature=TEMPERATURE,\n",
    ")\n",
    "\n",
    "_test_llm_model_(\"Who are you?\")"
   ]
  },
  {
   "cell_type": "markdown",
   "metadata": {},
   "source": [
    "### Web Search Agent"
   ]
  },
  {
   "cell_type": "code",
   "execution_count": 14,
   "metadata": {},
   "outputs": [],
   "source": [
    "from langchain.utilities import DuckDuckGoSearchAPIWrapper\n",
    "\n",
    "NUM_RESULTS_PER_QUESTION = 3\n",
    "ddg_search = DuckDuckGoSearchAPIWrapper()\n",
    "\n",
    "async def web_search(query: str, num_results: int = NUM_RESULTS_PER_QUESTION):\n",
    "    web_query_results = ddg_search.results(query, num_results)\n",
    "    return [r[\"link\"] for r in web_query_results]\n"
   ]
  },
  {
   "cell_type": "code",
   "execution_count": 17,
   "metadata": {},
   "outputs": [
    {
     "data": {
      "text/plain": [
       "['https://blog.langchain.dev/announcing-langsmith/',\n",
       " 'https://blog.logrocket.com/langsmith-test-llms-ai-applications/',\n",
       " 'https://dev.to/logankilpatrick/what-is-langsmith-and-why-should-i-care-as-a-developer-19k']"
      ]
     },
     "execution_count": 17,
     "metadata": {},
     "output_type": "execute_result"
    }
   ],
   "source": [
    "await web_search(\"What is langsmith?\")"
   ]
  },
  {
   "cell_type": "markdown",
   "metadata": {},
   "source": [
    "### Setup Chat Chain"
   ]
  },
  {
   "cell_type": "code",
   "execution_count": 68,
   "metadata": {},
   "outputs": [
    {
     "data": {
      "text/plain": [
       "[' LangSmith is a unified platform for developing, debugging, testing, evaluating, and monitoring large language model (LLM) applications. It provides a framework for creating LLM-based applications, as well as tools for tracing, visualizing, and comparing the inputs and outputs of different chains and prompts. LangSmith also includes a collection of evaluation modules, which use heuristics and LLMs to evaluate the correctness of an answer. Additionally, LangSmith allows developers to monitor the system-level performance of their application, track model/chain performance, debug issues, and understand how users are interacting with their application. LangSmith is used by companies such as Klarna, BCG, DeepLearningAI, Mendable, Multi-On, and Quivr for various purposes related to LLM application development and maintenance.',\n",
       " ' LangSmith is a platform that allows developers to build and evaluate language models. It provides a development environment for creating LangChain components, which can be used to set up chat-based AI environments with specific tools and agents. The platform also offers exception handling and input processing capabilities. To get started with LangSmith, users need to create an account, generate API keys, and securely store them in their runtime environment. They can then use the LangChain library to import necessary modules and classes, initialize a chat model, load specific tools, and create an agent that can generate responses based on descriptions. The platform also offers a wait\\\\_for\\\\_all\\\\_tracers function for better performance.',\n",
       " ' LangSmith is a platform that aims to help developers easily deploy and manage their large language models (LLMs) in production. It offers features such as versioning, deployment, monitoring, scaling, and security, making it easier for developers to focus on building their applications without worrying about the underlying infrastructure. Additionally, LangSmith provides integrations with other developer tools and services, allowing developers to connect their LLMs with other parts of their tech stack. The platform is currently in beta and is accepting sign-ups from interested developers.']"
      ]
     },
     "execution_count": 68,
     "metadata": {},
     "output_type": "execute_result"
    }
   ],
   "source": [
    "import asyncio\n",
    "from langchain_community.chat_models import ChatOllama\n",
    "from langchain.schema.output_parser import StrOutputParser\n",
    "from langchain.schema.runnable import RunnablePassthrough, RunnableLambda\n",
    "\n",
    "scrape_and_summarize_chain = (\n",
    "    RunnablePassthrough.assign(text=lambda x: scrape_url(x[\"url\"])[:10000])\n",
    "    | prompt\n",
    "    | ChatOllama(model=LLM_MODEL)\n",
    "    | StrOutputParser()\n",
    ")\n",
    "\n",
    "web_search_chain = (\n",
    "    RunnablePassthrough.assign(urls=lambda x: asyncio.run(web_search(x[\"question\"])))\n",
    "    | (lambda x: [{\"question\": x[\"question\"], \"url\": u} for u in x[\"urls\"]])\n",
    "    | scrape_and_summarize_chain.map()\n",
    ")\n",
    "\n",
    "\n",
    "chat_response = web_search_chain.invoke({\"question\": \"What is LangSmith?\"})\n",
    "chat_response"
   ]
  },
  {
   "cell_type": "markdown",
   "metadata": {},
   "source": [
    "#### Test Web Search"
   ]
  },
  {
   "cell_type": "code",
   "execution_count": 78,
   "metadata": {},
   "outputs": [
    {
     "data": {
      "text/plain": [
       "[[\" JSON (JavaScript Object Notation) is a lightweight data interchange format that is easy for humans to read and write and easy for machines to parse and generate. It is a text format that is completely language independent but uses conventions that are familiar to programmers of the C-family of languages, including C, C++, C#, Java, JavaScript, Perl, Python, and many others. JSON is built on two structures:\\n\\n1. A collection of name/value pairs. In various languages, this is realized as an object, record, struct, dictionary, hash table, keyed list, or associative array.\\n2. An ordered list of values. In most languages, this is realized as an array, vector, list, or sequence.\\n\\nJSON is a subset of the JavaScript Programming Language, Standard ECMA-262 3rd Edition - December 1999. JSON is a text format that is completely language independent but uses conventions that are familiar to programmers of the C-family of languages, including C, C++, C#, Java, JavaScript, Perl, Python, and many others.\\n\\nJSON provides simple notation for expressing objects, collections, and arrays, which makes it easy to read and write and easy for machines to parse and generate. JSON is often used when data is sent from a server to a web page. It is a very common data format with diverse uses in electronic data interchange, including that of web applications with servers.\\n\\nJSON can represent simple data structures and associative arrays (called objects) in a concise and easy-to-read format. JSON syntax is derived from JavaScript object notation syntax, but it is distinct from it: for example, JSON does not support JavaScript's use of comments. JSON is a text format that is completely language independent but uses conventions that are familiar to programmers of the C-family of languages, including C, C++, C#, Java, JavaScript, Perl, Python, and many others.\\n\\nJSON has its own MIME media type, application/json. JSON data is written as key-value pairs separated by commas. Each pair consists of a field name (in double quotes), followed by a colon, followed by the value. Values can be numbers, strings (in double quotes), boolean values or null, objects, or arrays. Objects are surrounded by curly braces {}. Arrays are surrounded by square brackets [].\\n\\nJSON is often used with AJAX to transfer data between a server and web application. JSON data can be easily parsed by JavaScript because it is native to the language. This makes JSON an ideal choice for transferring data between a web client and server.\\n\\nIn summary, JSON is a lightweight data interchange format that is easy for humans to read and write and easy for machines to parse and generate. It is a text format that uses conventions that are familiar to programmers of the C-family of languages, including C, C++, C#, Java, JavaScript, Perl, Python, and many others. JSON provides simple notation for expressing objects, collections, and arrays, which makes it easy to read and write and easy for machines to parse and generate. JSON is often used with AJAX to transfer data between a server and web application, making it an ideal choice for transferring data between a web client and server.\",\n",
       "  ' JSON (JavaScript Object Notation) is a lightweight data-interchange format that is easy for humans to read and write and easy for machines to parse and generate. It is based on a subset of the JavaScript Programming Language, Standard ECMA-262 3rd Edition - December 1999. JSON is a text format that is completely language independent but uses conventions that are familiar to programmers of the C-family of languages, including C, C++, C#, Java, JavaScript, Perl, Python, and many others. These properties make JSON an ideal data-interchange language.\\n\\nJSON is built on two structures:\\n\\n* A collection of name/value pairs. In various languages, this is realized as an object, record, struct, dictionary, hash table, keyed list, or associative array.\\n* An ordered list of values. In most languages, this is realized as an array, vector, list, or sequence.\\n\\nJSON inherently supports the following types:\\n\\n* A string of text containing Unicode characters. Double quotes are used to delimit the string. Strings can be very long.\\n* A number that may be a floating point value. Numbers in JSON are agnostic as to their representation (i.e., they may be integers, fixed-point, or floating-point). JSON does not support non-numbers such as NaN and Infinity, nor does it support exponential notation.\\n* A boolean value that is either true or false . JSON uses the convention of lower case true and false.\\n* An object that contains a collection of key/value pairs where keys are always strings and values can be any of the seven types allowed in JSON (string, number, boolean, object, array, null, or a function). Objects are delimited using curly braces { } and keys are separated from their corresponding value by a colon.\\n* An array that is an ordered collection of zero or more values, each of which can be any of the seven types allowed in JSON (string, number, boolean, object, array, null, or a function). Arrays use square brackets [ ] to delimit them and commas separate individual values.\\n* null as a representation of no value or no object. The literal for null is null . Nulls are used to represent missing information. For example, in the JSON representation of an address book entry, if the telephone number field is not applicable, it would be represented by null .\\n\\nJSON supports only two white space characters: linefeed and horizontal tab. It does not support other whitespace characters such as space, vertical tab, form feed, or carriage return. JSON uses UTF-8 encoding for strings, which means that it can represent any Unicode character. However, since JSON is a text format, there is no way to specify the byte order of multibyte characters.\\n\\nJSON is often used when data is sent from a server to a web page. The data is translated into JavaScript objects and arrays so that they can be accessed easily by scripting languages such as JavaScript. JSON is also commonly used when data is sent in the other direction, from a client (such as a web browser) to a server. In this case, the JavaScript objects and arrays are converted into a JSON text format before being transmitted.\\n\\nJSON has several advantages over XML:\\n\\n* JSON is less verbose than XML because it does not use end tags or attribute tags. This makes it faster to parse and transmit over a network.\\n* JSON maps directly to native JavaScript objects and arrays, so there is no need to convert the data once it reaches the client. In contrast, when using XML with JavaScript, the data must be converted into DOM objects before it can be accessed.\\n* JSON supports only two white space characters (linefeed and horizontal tab), whereas XML supports a variety of whitespace characters including space, vertical tab, form feed, and carriage return. This makes JSON less prone to errors caused by incorrect whitespace characters.\\n* JSON is case-sensitive, whereas XML is not. This means that JSON is more consistent with the conventions used in most programming languages.\\n\\nHowever, there are also some disadvantages to using JSON:\\n\\n* JSON does not support comments, whereas XML supports both single-line and multi-line comments.\\n* JSON does not support namespaces, whereas XML supports namespaces. This means that it is more difficult to combine data from multiple sources in JSON.\\n* JSON does not have a standard way of representing dates and times, whereas XML has a standard way of representing dates and times (XML Schema Datatypes).\\n* JSON does not have a standard way of representing binary data, whereas XML has a standard way of representing binary data (Base64 encoding).\\n\\nJSON is often used in web applications because it can be easily parsed by JavaScript. However, it can also be used in other programming languages such as Python, Java, and C#. In fact, JSON is language-independent, which means that it can be used with any programming language that supports text-based data formats.\\n\\nJSON has become a popular choice for data interchange because it is simple, lightweight, easy to read and write, and easy for machines to parse and generate. It has many of the same advantages as XML, but it is less verbose, easier to parse, and maps directly to native objects and arrays in JavaScript. JSON has become the de facto standard for data interchange on the web, and it is used by many popular web services such as Twitter, Facebook, and Google.\\n\\nIn summary, JSON is a lightweight data-interchange format that is easy for humans to read and write and easy for machines to parse and generate. It is based on a subset of the JavaScript Programming Language, Standard ECMA-262 3rd Edition - December 1999. JSON is built on two structures: a collection of name/value pairs and an ordered list of values. JSON inherently supports seven types: string, number, boolean, object, array, null, and function. JSON uses UTF-8 encoding for strings and supports only two white space characters (linefeed and horizontal tab). JSON is often used in web applications because it can be easily parsed by JavaScript. However, it can also be used in other programming languages such as Python, Java, and C#. JSON has become a popular choice for data interchange because it is simple, lightweight, easy to read and write, and easy for machines to parse and generate. It has many of the same advantages as XML, but it is less verbose, easier to parse, and maps directly to native objects and arrays in JavaScript. JSON has become the de facto standard for data interchange on the web, and it is used by many popular web services such as Twitter, Facebook, and Google.',\n",
       "  ' JSON (JavaScript Object Notation) is a lightweight data interchange format that is both human-readable and machine-readable. It is based on JavaScript but is language-independent and supported by many programming languages. JSON uses curly brackets to store data in the form of objects, with each attribute having a name and value separated by colons. A value can consist of a string, number, boolean, another object, or an array contained within square brackets. JSON is more compact than XML and requires less data to store and transfer, making it efficient for web applications that use a lot of data files. An example of a book defined in JSON is:\\n```json\\n{\\n  \"book\": {\\n    \"title\": \"A Study in Scarlet\",\\n    \"author\": \"Arthur Conan Doyle\",\\n    \"publisher\": {\\n      \"name\": \"Ward Lock & Co\",\\n      \"year\": \"1887\",\\n      \"country\": \"United Kingdom\"\\n    }\\n  }\\n}\\n```'],\n",
       " [' JSON stands for JavaScript Object Notation. It is a lightweight data interchange format that is easy for humans to read and write and easy for machines to parse and generate. It is based on a subset of the JavaScript Programming Language, Standard ECMA-262 3rd Edition - December 1999. JSON is a text format that is completely language independent but uses conventions that are familiar to programmers of the C-family of languages, including C, C++, C#, Java, JavaScript, Perl, Python, and many others. These properties make JSON an ideal data-interchange language.\\n\\nJSON is built on two structures:\\n\\n* A collection of name/value pairs. In various languages, this is realized as an object, record, struct, dictionary, hash table, keyed list, or associative array.\\n* An ordered list of values. In most languages, this is realized as an array, vector, list, or sequence.\\n\\nJSON is a text format that is completely language independent but uses conventions that are familiar to programmers of the C-family of languages, including C, C++, C#, Java, JavaScript, Perl, Python, and many others. These properties make JSON an ideal data-interchange language.',\n",
       "  ' JSON stands for JavaScript Object Notation. It is a lightweight data interchange format that is easy for humans to read and write and easy for machines to parse and generate. JSON is a text format that is completely language independent but uses conventions that are familiar to programmers of the C-family of languages, including C, C++, C#, Java, JavaScript, Perl, Python, and many others. These properties make JSON an ideal data interchange language. JSON is built on two structures:\\n\\n1. A collection of name/value pairs. In various languages, this is realized as an object, record, struct, dictionary, hash table, keyed list, or associative array.\\n2. An ordered list of values. In most languages, this is realized as an array, vector, list, or sequence.\\n\\nHere\\'s an example of a JSON object:\\n{\\n  \"name\": \"John Smith\",\\n  \"age\": 30,\\n  \"city\": \"New York\"\\n}\\n\\nAnd here\\'s an example of a JSON array:\\n\\n[\\n  {\\n    \"firstName\": \"Jane\",\\n    \"lastName\": \"Doe\"\\n  },\\n  {\\n    \"firstName\": \"John\",\\n    \"lastName\": \"Roe\"\\n  }\\n]\\n\\nJSON is often used when data is sent from a server to a web page. The data is sent in the form of a JSON object or array, which can then be accessed and processed by JavaScript on the client side. JSON can also be used within a single web page to store complex data structures in a simple text format.\\n\\nTo summarize, JSON is a lightweight data interchange format that is easy for humans to read and write and easy for machines to parse and generate. It is built on two structures: a collection of name/value pairs and an ordered list of values. JSON is often used when data is sent from a server to a web page and can also be used within a single web page to store complex data structures in a simple text format.',\n",
       "  ' JSON stands for JavaScript Object Notation. It is a lightweight data-interchange format that is easy for humans to read and write and easy for machines to parse and generate. JSON is a text format that is completely language independent but uses conventions that are familiar to programmers of the C-family of languages, including C, C++, C#, Java, JavaScript, Perl, Python, and many others. These properties make JSON an ideal data-interchange language.'],\n",
       " [' JSON (JavaScript Object Notation) is a lightweight data interchange format that is easy for humans to read and write and easy for machines to parse and generate. It is based on a subset of the JavaScript Programming Language, Standard ECMA-262 3rd Edition - December 1999. JSON is a text format that is completely language independent but uses conventions that are familiar to programmers of the C-family of languages, including C, C++, C#, Java, JavaScript, Perl, Python, and many others. These properties make JSON an ideal data interchange language.\\n\\nJSON defines only six data structures:\\n\\n1. **Array**: An ordered list of zero or more values.\\n2. **Object**: An unordered collection of key/value pairs where keys are strings.\\n3. **String**: A sequence of zero or more Unicode characters.\\n4. **Number**: A sequence of digits with an optional decimal point and exponent, which may be signed.\\n5. **Boolean**: Represents either a true or false value.\\n6. **Null**: Represents the absence of any value.\\n\\nJSON data is written as key/value pairs. A key is a string (in double quotes), followed by a colon. The key/value pair is followed by a comma, unless it is the last pair in an object. An array starts with [ and ends with ], and its elements are separated by commas.\\n\\nJSON data can be formatted with optional whitespace around keys and values to make it easier to read, but this makes the document larger due to the added white space characters. JSON documents should be compacted (remove whitespacing) to minimize the amount of data that needs to be stored or transferred. The JSON specification requires UTF-8 encoding.\\n\\nJSON is a simple and powerful data format with limitations. For example, it lacks support for comments and more advanced data structures like Dates. However, these limitations can be overcome with conventions, such as adding comments as a regular key/value pair or serializing a date in a string. JSON5 and BSON are alternatives to JSON that offer better solutions for specific cases.\\n\\nJSON is popular because it is simple, supported in all programming languages, and easy to work with. It is used inside applications like JavaScript browser applications and backend server applications. Most programming languages have support for JSON, allowing you to parse JSON data into an object and stringify it again.',\n",
       "  ' The text does not provide any information about JSON data format explained. It also does not contain any factual information, numbers, or stats related to this topic.',\n",
       "  \" JSON (JavaScript Object Notation) is a lightweight data interchange format that is easy for humans to read and write and easy for machines to parse and generate. It is based on a subset of the JavaScript Programming Language, Standard ECMA-262 3rd Edition - December 1999. JSON is a text format that is completely language independent but uses conventions that are familiar to programmers of the C-family of languages, including C, C++, C#, Java, JavaScript, Perl, Python, and many others. These properties make JSON an ideal data-interchange language.\\n\\nJSON is often used for transmitting data in web applications, using HTTP requests to send and receive data as JSON objects. JSON format is also commonly used in configuration files and as a data storage format in databases or flat files. It can be used in inter-service communication in microservices architecture, and it's an excellent choice for representing structured data in a wide range of applications due to its simplicity, readability, and flexibility.\\n\\nPractical uses of JSON include:\\n\\n* Sending and receiving data between a client and a server using HTTP requests and responses\\n* Representing structured data in a simple, easy-to-read format\\n* Storing configuration settings for software applications\\n* Communicating between microservices in an application architecture\\n\\nJSON format is used in many popular web services like Google APIs, Twitter APIs, and Facebook Graph API. It's also commonly used in IoT (Internet of Things) devices, mobile apps, and games. JSON format is supported by most modern programming languages and can be easily parsed and generated using built-in libraries or third-party packages.\"]]"
      ]
     },
     "execution_count": 78,
     "metadata": {},
     "output_type": "execute_result"
    }
   ],
   "source": [
    "import json\n",
    "\n",
    "questions_generation = (\n",
    "    \"Write 3 google search queries to search online that form an objective \"\n",
    "    \"opinion from the following question: {question}\\n \"\n",
    "    \"Return a python list in the following format: \"\n",
    "    \"['query 1', 'query 2', 'query 3']\\n \"\n",
    "    \"Do not include anything else after the list.\"\n",
    ")\n",
    "\n",
    "SEARCH_PROMPT = ChatPromptTemplate.from_messages(\n",
    "    [\n",
    "        (\n",
    "            \"user\",\n",
    "            questions_generation,\n",
    "        )\n",
    "    ]\n",
    ")\n",
    "\n",
    "search_qanda_chain = (\n",
    "    SEARCH_PROMPT \n",
    "    | ChatOllama(model=LLM_MODEL) \n",
    "    | StrOutputParser()\n",
    "    | eval\n",
    "    | (lambda l: [{\"question\": q} for q in l])\n",
    ")\n",
    "\n",
    "chain = search_qanda_chain | web_search_chain.map()\n",
    "\n",
    "chain.invoke({\n",
    "    \"question\": \"what is json?\"\n",
    "})"
   ]
  },
  {
   "cell_type": "code",
   "execution_count": 73,
   "metadata": {},
   "outputs": [
    {
     "name": "stdout",
     "output_type": "stream",
     "text": [
      "['define JSON', 'what is the structure of JSON', 'JSON data type uses in programming']\n"
     ]
    },
    {
     "data": {
      "text/plain": [
       "[{'question': 'define JSON'},\n",
       " {'question': 'what is the structure of JSON'},\n",
       " {'question': 'JSON data type uses in programming'}]"
      ]
     },
     "execution_count": 73,
     "metadata": {},
     "output_type": "execute_result"
    }
   ],
   "source": [
    "print_and_continue(['define JSON', 'what is the structure of JSON', 'JSON data type uses in programming'])"
   ]
  }
 ],
 "metadata": {
  "kernelspec": {
   "display_name": "Python 3 (ipykernel)",
   "language": "python",
   "name": "python3"
  },
  "language_info": {
   "codemirror_mode": {
    "name": "ipython",
    "version": 3
   },
   "file_extension": ".py",
   "mimetype": "text/x-python",
   "name": "python",
   "nbconvert_exporter": "python",
   "pygments_lexer": "ipython3",
   "version": "3.9.16"
  }
 },
 "nbformat": 4,
 "nbformat_minor": 2
}
